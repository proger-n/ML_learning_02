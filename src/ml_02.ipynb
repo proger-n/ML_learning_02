{
 "cells": [
  {
   "cell_type": "markdown",
   "metadata": {
    "id": "8eVw1dzXdn1b"
   },
   "source": [
    "# 1. Answer to the questions\n",
    "\n",
    "1. Derive an analytical solution for the regression task. Use a vector form of equation.  \n",
    "    - Y = X*w                 - линрег в матричном виде\n",
    "    - SSE = Σ(Y - Y_pred)^2   - минимизируем функию сумма квадратов ошибок\n",
    "    - d/dw(Σ(Y - X*w)^2) = 0  - диффур = 0\n",
    "    - -2X^T(Y - X*w) = 0      - раскрытие скобок\n",
    "    - -2X^TY + 2X^TX\\*w = 0\n",
    "    - $$ w = (X^TX)^{-1}X^TY $$   \n",
    "2. What changes in solution when adding L1 and L2 regularization to the loss function.\n",
    "    - тем самым мы решаем проблему переобучения\n",
    "    L1 - убираем малозначимые(линейно зависимые) признаки\n",
    "    L2 - не даем весам разрастись(штраф в виде квадрата весов)\n",
    "3. Explain why L1 regularization is commonly used to select features. Why are there a lot of weights that are equal to 0 after the model is fitted?\n",
    "    - штрафует за признаки в первой степени, тем самым модель стремиться оставить поменьше весов\n",
    "4. Explain how you can use the same models (Linear Regression, Ridge, etc) but make it possible to fit nonlinear dependencies?\n",
    "    - нелинейные зависимости становятся новыми осями и вписываются как часть линейного уравнения"
   ]
  },
  {
   "cell_type": "markdown",
   "metadata": {
    "id": "TrBqotiBd7lN"
   },
   "source": [
    "# 2. Introduction  - make all preprocess staff from the previous lesson"
   ]
  },
  {
   "cell_type": "markdown",
   "metadata": {
    "id": "PTRYvnl0eEwZ"
   },
   "source": [
    "## 2.1 Import libraries."
   ]
  },
  {
   "cell_type": "code",
   "execution_count": 220,
   "metadata": {
    "id": "so2D5i7Nei0Z"
   },
   "outputs": [],
   "source": [
    "# ! pip3.12 install scikit-learn statsmodels matplotlib seaborn -q"
   ]
  },
  {
   "cell_type": "code",
   "execution_count": null,
   "metadata": {},
   "outputs": [],
   "source": [
    "! pip install kaggle\n",
    "! mkdir .kaggle data\n",
    "! chmod 600 .kaggle/kaggle.json\n",
    "! kaggle competitions download two-sigma-connect-rental-listing-inquiries\n",
    "! unzip two-sigma-connect-rental-listing-inquiries.zip\n",
    "! unzip data/train.json.zip\n",
    "! unzip data/test.json.zip"
   ]
  },
  {
   "cell_type": "code",
   "execution_count": 221,
   "metadata": {
    "id": "NETXMiN2eTDO"
   },
   "outputs": [],
   "source": [
    "import pandas as pd\n",
    "import numpy as np\n",
    "from sklearn.linear_model import LinearRegression\n",
    "from sklearn.metrics import mean_squared_error, mean_absolute_error\n",
    "from sklearn.linear_model import Ridge, Lasso, ElasticNet\n",
    "from sklearn.preprocessing import PolynomialFeatures\n",
    "import re"
   ]
  },
  {
   "cell_type": "markdown",
   "metadata": {
    "id": "PRvICByReJdl"
   },
   "source": [
    "## 2.2 Read train and test parts."
   ]
  },
  {
   "cell_type": "code",
   "execution_count": 222,
   "metadata": {
    "colab": {
     "base_uri": "https://localhost:8080/",
     "height": 406
    },
    "id": "pCELju-aeuAI",
    "outputId": "a4145cba-e1d2-4465-93b6-e805dc55ef54"
   },
   "outputs": [
    {
     "data": {
      "text/html": [
       "<div>\n",
       "<style scoped>\n",
       "    .dataframe tbody tr th:only-of-type {\n",
       "        vertical-align: middle;\n",
       "    }\n",
       "\n",
       "    .dataframe tbody tr th {\n",
       "        vertical-align: top;\n",
       "    }\n",
       "\n",
       "    .dataframe thead th {\n",
       "        text-align: right;\n",
       "    }\n",
       "</style>\n",
       "<table border=\"1\" class=\"dataframe\">\n",
       "  <thead>\n",
       "    <tr style=\"text-align: right;\">\n",
       "      <th></th>\n",
       "      <th>bathrooms</th>\n",
       "      <th>bedrooms</th>\n",
       "      <th>building_id</th>\n",
       "      <th>created</th>\n",
       "      <th>description</th>\n",
       "      <th>display_address</th>\n",
       "      <th>features</th>\n",
       "      <th>latitude</th>\n",
       "      <th>listing_id</th>\n",
       "      <th>longitude</th>\n",
       "      <th>manager_id</th>\n",
       "      <th>photos</th>\n",
       "      <th>price</th>\n",
       "      <th>street_address</th>\n",
       "      <th>interest_level</th>\n",
       "    </tr>\n",
       "  </thead>\n",
       "  <tbody>\n",
       "    <tr>\n",
       "      <th>4</th>\n",
       "      <td>1.0</td>\n",
       "      <td>1</td>\n",
       "      <td>8579a0b0d54db803821a35a4a615e97a</td>\n",
       "      <td>2016-06-16 05:55:27</td>\n",
       "      <td>Spacious 1 Bedroom 1 Bathroom in Williamsburg!...</td>\n",
       "      <td>145 Borinquen Place</td>\n",
       "      <td>[Dining Room, Pre-War, Laundry in Building, Di...</td>\n",
       "      <td>40.7108</td>\n",
       "      <td>7170325</td>\n",
       "      <td>-73.9539</td>\n",
       "      <td>a10db4590843d78c784171a107bdacb4</td>\n",
       "      <td>[https://photos.renthop.com/2/7170325_3bb5ac84...</td>\n",
       "      <td>2400</td>\n",
       "      <td>145 Borinquen Place</td>\n",
       "      <td>medium</td>\n",
       "    </tr>\n",
       "    <tr>\n",
       "      <th>6</th>\n",
       "      <td>1.0</td>\n",
       "      <td>2</td>\n",
       "      <td>b8e75fc949a6cd8225b455648a951712</td>\n",
       "      <td>2016-06-01 05:44:33</td>\n",
       "      <td>BRAND NEW GUT RENOVATED TRUE 2 BEDROOMFind you...</td>\n",
       "      <td>East 44th</td>\n",
       "      <td>[Doorman, Elevator, Laundry in Building, Dishw...</td>\n",
       "      <td>40.7513</td>\n",
       "      <td>7092344</td>\n",
       "      <td>-73.9722</td>\n",
       "      <td>955db33477af4f40004820b4aed804a0</td>\n",
       "      <td>[https://photos.renthop.com/2/7092344_7663c19a...</td>\n",
       "      <td>3800</td>\n",
       "      <td>230 East 44th</td>\n",
       "      <td>low</td>\n",
       "    </tr>\n",
       "    <tr>\n",
       "      <th>9</th>\n",
       "      <td>1.0</td>\n",
       "      <td>2</td>\n",
       "      <td>cd759a988b8f23924b5a2058d5ab2b49</td>\n",
       "      <td>2016-06-14 15:19:59</td>\n",
       "      <td>**FLEX 2 BEDROOM WITH FULL PRESSURIZED WALL**L...</td>\n",
       "      <td>East 56th Street</td>\n",
       "      <td>[Doorman, Elevator, Laundry in Building, Laund...</td>\n",
       "      <td>40.7575</td>\n",
       "      <td>7158677</td>\n",
       "      <td>-73.9625</td>\n",
       "      <td>c8b10a317b766204f08e613cef4ce7a0</td>\n",
       "      <td>[https://photos.renthop.com/2/7158677_c897a134...</td>\n",
       "      <td>3495</td>\n",
       "      <td>405 East 56th Street</td>\n",
       "      <td>medium</td>\n",
       "    </tr>\n",
       "  </tbody>\n",
       "</table>\n",
       "</div>"
      ],
      "text/plain": [
       "   bathrooms  bedrooms                       building_id              created  \\\n",
       "4        1.0         1  8579a0b0d54db803821a35a4a615e97a  2016-06-16 05:55:27   \n",
       "6        1.0         2  b8e75fc949a6cd8225b455648a951712  2016-06-01 05:44:33   \n",
       "9        1.0         2  cd759a988b8f23924b5a2058d5ab2b49  2016-06-14 15:19:59   \n",
       "\n",
       "                                         description      display_address  \\\n",
       "4  Spacious 1 Bedroom 1 Bathroom in Williamsburg!...  145 Borinquen Place   \n",
       "6  BRAND NEW GUT RENOVATED TRUE 2 BEDROOMFind you...            East 44th   \n",
       "9  **FLEX 2 BEDROOM WITH FULL PRESSURIZED WALL**L...     East 56th Street   \n",
       "\n",
       "                                            features  latitude  listing_id  \\\n",
       "4  [Dining Room, Pre-War, Laundry in Building, Di...   40.7108     7170325   \n",
       "6  [Doorman, Elevator, Laundry in Building, Dishw...   40.7513     7092344   \n",
       "9  [Doorman, Elevator, Laundry in Building, Laund...   40.7575     7158677   \n",
       "\n",
       "   longitude                        manager_id  \\\n",
       "4   -73.9539  a10db4590843d78c784171a107bdacb4   \n",
       "6   -73.9722  955db33477af4f40004820b4aed804a0   \n",
       "9   -73.9625  c8b10a317b766204f08e613cef4ce7a0   \n",
       "\n",
       "                                              photos  price  \\\n",
       "4  [https://photos.renthop.com/2/7170325_3bb5ac84...   2400   \n",
       "6  [https://photos.renthop.com/2/7092344_7663c19a...   3800   \n",
       "9  [https://photos.renthop.com/2/7158677_c897a134...   3495   \n",
       "\n",
       "         street_address interest_level  \n",
       "4   145 Borinquen Place         medium  \n",
       "6         230 East 44th            low  \n",
       "9  405 East 56th Street         medium  "
      ]
     },
     "execution_count": 222,
     "metadata": {},
     "output_type": "execute_result"
    }
   ],
   "source": [
    "df_train = pd.read_json('data/train.json')\n",
    "df_train.head(3)"
   ]
  },
  {
   "cell_type": "code",
   "execution_count": 223,
   "metadata": {
    "colab": {
     "base_uri": "https://localhost:8080/",
     "height": 372
    },
    "id": "GjwrydKPfSBb",
    "outputId": "96ad2dec-c77c-42b3-9479-ddd6db51601d"
   },
   "outputs": [
    {
     "data": {
      "text/html": [
       "<div>\n",
       "<style scoped>\n",
       "    .dataframe tbody tr th:only-of-type {\n",
       "        vertical-align: middle;\n",
       "    }\n",
       "\n",
       "    .dataframe tbody tr th {\n",
       "        vertical-align: top;\n",
       "    }\n",
       "\n",
       "    .dataframe thead th {\n",
       "        text-align: right;\n",
       "    }\n",
       "</style>\n",
       "<table border=\"1\" class=\"dataframe\">\n",
       "  <thead>\n",
       "    <tr style=\"text-align: right;\">\n",
       "      <th></th>\n",
       "      <th>bathrooms</th>\n",
       "      <th>bedrooms</th>\n",
       "      <th>building_id</th>\n",
       "      <th>created</th>\n",
       "      <th>description</th>\n",
       "      <th>display_address</th>\n",
       "      <th>features</th>\n",
       "      <th>latitude</th>\n",
       "      <th>listing_id</th>\n",
       "      <th>longitude</th>\n",
       "      <th>manager_id</th>\n",
       "      <th>photos</th>\n",
       "      <th>price</th>\n",
       "      <th>street_address</th>\n",
       "    </tr>\n",
       "  </thead>\n",
       "  <tbody>\n",
       "    <tr>\n",
       "      <th>0</th>\n",
       "      <td>1.0</td>\n",
       "      <td>1</td>\n",
       "      <td>79780be1514f645d7e6be99a3de696c5</td>\n",
       "      <td>2016-06-11 05:29:41</td>\n",
       "      <td>Large with awesome terrace--accessible via bed...</td>\n",
       "      <td>Suffolk Street</td>\n",
       "      <td>[Elevator, Laundry in Building, Laundry in Uni...</td>\n",
       "      <td>40.7185</td>\n",
       "      <td>7142618</td>\n",
       "      <td>-73.9865</td>\n",
       "      <td>b1b1852c416d78d7765d746cb1b8921f</td>\n",
       "      <td>[https://photos.renthop.com/2/7142618_1c45a2c8...</td>\n",
       "      <td>2950</td>\n",
       "      <td>99 Suffolk Street</td>\n",
       "    </tr>\n",
       "    <tr>\n",
       "      <th>1</th>\n",
       "      <td>1.0</td>\n",
       "      <td>2</td>\n",
       "      <td>0</td>\n",
       "      <td>2016-06-24 06:36:34</td>\n",
       "      <td>Prime Soho - between Bleecker and Houston - Ne...</td>\n",
       "      <td>Thompson Street</td>\n",
       "      <td>[Pre-War, Dogs Allowed, Cats Allowed]</td>\n",
       "      <td>40.7278</td>\n",
       "      <td>7210040</td>\n",
       "      <td>-74.0000</td>\n",
       "      <td>d0b5648017832b2427eeb9956d966a14</td>\n",
       "      <td>[https://photos.renthop.com/2/7210040_d824cc71...</td>\n",
       "      <td>2850</td>\n",
       "      <td>176 Thompson Street</td>\n",
       "    </tr>\n",
       "    <tr>\n",
       "      <th>2</th>\n",
       "      <td>1.0</td>\n",
       "      <td>0</td>\n",
       "      <td>0</td>\n",
       "      <td>2016-06-17 01:23:39</td>\n",
       "      <td>Spacious studio in Prime Location. Cleanbuildi...</td>\n",
       "      <td>Sullivan Street</td>\n",
       "      <td>[Pre-War, Dogs Allowed, Cats Allowed]</td>\n",
       "      <td>40.7260</td>\n",
       "      <td>7174566</td>\n",
       "      <td>-74.0026</td>\n",
       "      <td>e6472c7237327dd3903b3d6f6a94515a</td>\n",
       "      <td>[https://photos.renthop.com/2/7174566_ba3a35c5...</td>\n",
       "      <td>2295</td>\n",
       "      <td>115 Sullivan Street</td>\n",
       "    </tr>\n",
       "  </tbody>\n",
       "</table>\n",
       "</div>"
      ],
      "text/plain": [
       "   bathrooms  bedrooms                       building_id              created  \\\n",
       "0        1.0         1  79780be1514f645d7e6be99a3de696c5  2016-06-11 05:29:41   \n",
       "1        1.0         2                                 0  2016-06-24 06:36:34   \n",
       "2        1.0         0                                 0  2016-06-17 01:23:39   \n",
       "\n",
       "                                         description  display_address  \\\n",
       "0  Large with awesome terrace--accessible via bed...   Suffolk Street   \n",
       "1  Prime Soho - between Bleecker and Houston - Ne...  Thompson Street   \n",
       "2  Spacious studio in Prime Location. Cleanbuildi...  Sullivan Street   \n",
       "\n",
       "                                            features  latitude  listing_id  \\\n",
       "0  [Elevator, Laundry in Building, Laundry in Uni...   40.7185     7142618   \n",
       "1              [Pre-War, Dogs Allowed, Cats Allowed]   40.7278     7210040   \n",
       "2              [Pre-War, Dogs Allowed, Cats Allowed]   40.7260     7174566   \n",
       "\n",
       "   longitude                        manager_id  \\\n",
       "0   -73.9865  b1b1852c416d78d7765d746cb1b8921f   \n",
       "1   -74.0000  d0b5648017832b2427eeb9956d966a14   \n",
       "2   -74.0026  e6472c7237327dd3903b3d6f6a94515a   \n",
       "\n",
       "                                              photos  price  \\\n",
       "0  [https://photos.renthop.com/2/7142618_1c45a2c8...   2950   \n",
       "1  [https://photos.renthop.com/2/7210040_d824cc71...   2850   \n",
       "2  [https://photos.renthop.com/2/7174566_ba3a35c5...   2295   \n",
       "\n",
       "        street_address  \n",
       "0    99 Suffolk Street  \n",
       "1  176 Thompson Street  \n",
       "2  115 Sullivan Street  "
      ]
     },
     "execution_count": 223,
     "metadata": {},
     "output_type": "execute_result"
    }
   ],
   "source": [
    "df_test = pd.read_json('data/test.json')\n",
    "df_test.head(3)"
   ]
  },
  {
   "cell_type": "markdown",
   "metadata": {
    "id": "n7Ezeh0TeOnn"
   },
   "source": [
    "## 2.3 Preprocess “interest level” feature."
   ]
  },
  {
   "cell_type": "code",
   "execution_count": 224,
   "metadata": {
    "colab": {
     "base_uri": "https://localhost:8080/"
    },
    "id": "cq84Qv0BTfvs",
    "outputId": "5a7caf59-9a4a-4542-8aad-9bca37ad0277"
   },
   "outputs": [
    {
     "data": {
      "text/plain": [
       "interest_level\n",
       "1    34284\n",
       "2    11229\n",
       "0     3839\n",
       "Name: count, dtype: int64"
      ]
     },
     "execution_count": 224,
     "metadata": {},
     "output_type": "execute_result"
    }
   ],
   "source": [
    "df_train['interest_level'] = df_train['interest_level'].astype('category').cat.codes\n",
    "df_train['interest_level'].value_counts()"
   ]
  },
  {
   "cell_type": "markdown",
   "metadata": {
    "id": "2ok36393g8QK"
   },
   "source": [
    "# 3. Intro data analysis part 2"
   ]
  },
  {
   "cell_type": "markdown",
   "metadata": {
    "id": "8YG3WJMHhecI"
   },
   "source": [
    "## 3.1 Lets generate additional features for better model quality. Consider a column named “features”. It consists of a list of highlights of the current flat."
   ]
  },
  {
   "cell_type": "code",
   "execution_count": 225,
   "metadata": {
    "colab": {
     "base_uri": "https://localhost:8080/"
    },
    "id": "nXysSx9JghTI",
    "outputId": "cd9bcafc-ff55-4513-f95b-de3a228e1b01"
   },
   "outputs": [
    {
     "data": {
      "text/plain": [
       "['Dining Room',\n",
       " 'Pre-War',\n",
       " 'Laundry in Building',\n",
       " 'Dishwasher',\n",
       " 'Hardwood Floors',\n",
       " 'Dogs Allowed',\n",
       " 'Cats Allowed']"
      ]
     },
     "execution_count": 225,
     "metadata": {},
     "output_type": "execute_result"
    }
   ],
   "source": [
    "df_train.features.iloc[0]"
   ]
  },
  {
   "cell_type": "markdown",
   "metadata": {
    "id": "V5eTbvRWhsoV"
   },
   "source": [
    "## 3.2 Remove unused symbols ([,],’,” and space) from the column."
   ]
  },
  {
   "cell_type": "code",
   "execution_count": 226,
   "metadata": {
    "id": "ZFUGW_j00wKo"
   },
   "outputs": [],
   "source": [
    "df_train['features'] = df_train['features'].apply(lambda x: list([re.sub(r'[\\[\\]\\'\\\"\\s]', '', item) for item in x]))\n"
   ]
  },
  {
   "cell_type": "code",
   "execution_count": 227,
   "metadata": {
    "id": "ip8Yl4a6rjAU"
   },
   "outputs": [],
   "source": [
    "df_train['features_n'] = df_train['features'].apply(lambda x: ','.join(map(str, x)))"
   ]
  },
  {
   "cell_type": "code",
   "execution_count": 228,
   "metadata": {
    "colab": {
     "base_uri": "https://localhost:8080/"
    },
    "id": "X_IHR4Nbs_Gw",
    "outputId": "c834dc74-20a5-478a-9722-f81409576cfe"
   },
   "outputs": [
    {
     "name": "stdout",
     "output_type": "stream",
     "text": [
      "<class 'pandas.core.frame.DataFrame'>\n",
      "Index: 49352 entries, 4 to 124009\n",
      "Data columns (total 16 columns):\n",
      " #   Column           Non-Null Count  Dtype  \n",
      "---  ------           --------------  -----  \n",
      " 0   bathrooms        49352 non-null  float64\n",
      " 1   bedrooms         49352 non-null  int64  \n",
      " 2   building_id      49352 non-null  object \n",
      " 3   created          49352 non-null  object \n",
      " 4   description      49352 non-null  object \n",
      " 5   display_address  49352 non-null  object \n",
      " 6   features         49352 non-null  object \n",
      " 7   latitude         49352 non-null  float64\n",
      " 8   listing_id       49352 non-null  int64  \n",
      " 9   longitude        49352 non-null  float64\n",
      " 10  manager_id       49352 non-null  object \n",
      " 11  photos           49352 non-null  object \n",
      " 12  price            49352 non-null  int64  \n",
      " 13  street_address   49352 non-null  object \n",
      " 14  interest_level   49352 non-null  int8   \n",
      " 15  features_n       49352 non-null  object \n",
      "dtypes: float64(3), int64(3), int8(1), object(9)\n",
      "memory usage: 6.1+ MB\n"
     ]
    }
   ],
   "source": [
    "df_train.info()"
   ]
  },
  {
   "cell_type": "markdown",
   "metadata": {
    "id": "nV7wZAl65Gyi"
   },
   "source": [
    "## 3.3 Split values in every row with separator “,” and collect the result in one huge list for the whole dataset. You may use DataFrame.iterrows()."
   ]
  },
  {
   "cell_type": "code",
   "execution_count": 229,
   "metadata": {
    "colab": {
     "base_uri": "https://localhost:8080/"
    },
    "id": "c_xxl1GN5I4D",
    "outputId": "1a4b1910-f21a-4a9d-a6e6-98479279ff6b"
   },
   "outputs": [
    {
     "data": {
      "text/plain": [
       "['DiningRoom',\n",
       " 'Pre-War',\n",
       " 'LaundryinBuilding',\n",
       " 'Dishwasher',\n",
       " 'HardwoodFloors',\n",
       " 'DogsAllowed',\n",
       " 'CatsAllowed',\n",
       " 'Doorman',\n",
       " 'Elevator',\n",
       " 'LaundryinBuilding']"
      ]
     },
     "execution_count": 229,
     "metadata": {},
     "output_type": "execute_result"
    }
   ],
   "source": [
    "list_df_futures = df_train.explode('features')['features'].dropna().to_list()\n",
    "list_df_futures[:10]"
   ]
  },
  {
   "cell_type": "markdown",
   "metadata": {
    "id": "yLZvemdD6r0K"
   },
   "source": [
    "## 3.4 How many unique values consist of a result list?"
   ]
  },
  {
   "cell_type": "code",
   "execution_count": 230,
   "metadata": {
    "colab": {
     "base_uri": "https://localhost:8080/"
    },
    "id": "quk-10Rd6k_1",
    "outputId": "ad52ff6e-ae07-46ab-c2e3-116d197c33cf"
   },
   "outputs": [
    {
     "data": {
      "text/plain": [
       "1545"
      ]
     },
     "execution_count": 230,
     "metadata": {},
     "output_type": "execute_result"
    }
   ],
   "source": [
    "len(set(list_df_futures))"
   ]
  },
  {
   "cell_type": "markdown",
   "metadata": {
    "id": "6bgR0gGSeHCA"
   },
   "source": [
    "## 3.5 Let's get to know the new library - Collections. With this package you could effectively get quantity statistics about your data."
   ]
  },
  {
   "cell_type": "markdown",
   "metadata": {
    "id": "2tnx93P0fU-a"
   },
   "source": [
    "## 3.6 Count the most popular features of our huge list and take the top 20 for this moment."
   ]
  },
  {
   "cell_type": "code",
   "execution_count": 231,
   "metadata": {
    "colab": {
     "base_uri": "https://localhost:8080/"
    },
    "id": "RT3J3rYOcNaO",
    "outputId": "f93a3925-c147-4216-d64a-cfa27ae92784"
   },
   "outputs": [
    {
     "data": {
      "text/plain": [
       "[('Elevator', 25915),\n",
       " ('CatsAllowed', 23540),\n",
       " ('HardwoodFloors', 23527),\n",
       " ('DogsAllowed', 22035),\n",
       " ('Doorman', 20898),\n",
       " ('Dishwasher', 20426),\n",
       " ('NoFee', 18062),\n",
       " ('LaundryinBuilding', 16344),\n",
       " ('FitnessCenter', 13252),\n",
       " ('Pre-War', 9148),\n",
       " ('LaundryinUnit', 8738),\n",
       " ('RoofDeck', 6542),\n",
       " ('OutdoorSpace', 5268),\n",
       " ('DiningRoom', 5136),\n",
       " ('HighSpeedInternet', 4299),\n",
       " ('Balcony', 2992),\n",
       " ('SwimmingPool', 2730),\n",
       " ('LaundryInBuilding', 2593),\n",
       " ('NewConstruction', 2559),\n",
       " ('Terrace', 2283)]"
      ]
     },
     "execution_count": 231,
     "metadata": {},
     "output_type": "execute_result"
    }
   ],
   "source": [
    "from collections import Counter\n",
    "\n",
    "counter = Counter(list_df_futures)\n",
    "\n",
    "counter.most_common(20)"
   ]
  },
  {
   "cell_type": "markdown",
   "metadata": {
    "id": "YLrGBgqBgYnd"
   },
   "source": [
    "## 3.7 If everything correct you should get next values:  'Elevator', 'HardwoodFloors', 'CatsAllowed', 'DogsAllowed', 'Doorman', 'Dishwasher', 'NoFee', 'LaundryinBuilding', 'FitnessCenter', 'Pre-War', 'LaundryinUnit', 'RoofDeck', 'OutdoorSpace', 'DiningRoom', 'HighSpeedInternet', 'Balcony', 'SwimmingPool', 'LaundryInBuilding', 'NewConstruction', 'Terrace'."
   ]
  },
  {
   "cell_type": "markdown",
   "metadata": {
    "id": "dboGyvC1gYjN"
   },
   "source": [
    "## 3.8 Now generate 20 new features based on top 20 values: 1 if value in “feature” column else 0."
   ]
  },
  {
   "cell_type": "code",
   "execution_count": 232,
   "metadata": {
    "colab": {
     "base_uri": "https://localhost:8080/"
    },
    "id": "AS5ywqeQm9n6",
    "outputId": "4249d2a0-1485-4bc2-b6c5-cf26a62cee8b"
   },
   "outputs": [
    {
     "data": {
      "text/plain": [
       "['Elevator',\n",
       " 'CatsAllowed',\n",
       " 'HardwoodFloors',\n",
       " 'DogsAllowed',\n",
       " 'Doorman',\n",
       " 'Dishwasher',\n",
       " 'NoFee',\n",
       " 'LaundryinBuilding',\n",
       " 'FitnessCenter',\n",
       " 'Pre-War',\n",
       " 'LaundryinUnit',\n",
       " 'RoofDeck',\n",
       " 'OutdoorSpace',\n",
       " 'DiningRoom',\n",
       " 'HighSpeedInternet',\n",
       " 'Balcony',\n",
       " 'SwimmingPool',\n",
       " 'LaundryInBuilding',\n",
       " 'NewConstruction',\n",
       " 'Terrace']"
      ]
     },
     "execution_count": 232,
     "metadata": {},
     "output_type": "execute_result"
    }
   ],
   "source": [
    "top_20 = counter.most_common(20)\n",
    "\n",
    "top_20_features = [feature for feature, count in top_20]\n",
    "top_20_features"
   ]
  },
  {
   "cell_type": "code",
   "execution_count": 233,
   "metadata": {
    "id": "YTiTR_EfyqLC"
   },
   "outputs": [],
   "source": [
    "def onehotencoder(df, features_list):\n",
    "  result = np.zeros((len(df), len(features_list)))\n",
    "  for r, col in enumerate(df):\n",
    "    for fi in range(len(features_list)):\n",
    "      for c in col:\n",
    "        if features_list[fi] == c:\n",
    "          result[r, fi] = 1\n",
    "  return result"
   ]
  },
  {
   "cell_type": "code",
   "execution_count": 234,
   "metadata": {
    "id": "vPJiuDSK91r0"
   },
   "outputs": [],
   "source": [
    "df_encoded = pd.DataFrame(onehotencoder(df_train['features'], top_20_features))\n"
   ]
  },
  {
   "cell_type": "code",
   "execution_count": 235,
   "metadata": {
    "colab": {
     "base_uri": "https://localhost:8080/"
    },
    "id": "KOfxK_fZAU3l",
    "outputId": "06b67d4e-6a69-43b7-8eda-43d7ba7e68a0"
   },
   "outputs": [
    {
     "data": {
      "text/plain": [
       "{0: 'Elevator',\n",
       " 1: 'CatsAllowed',\n",
       " 2: 'HardwoodFloors',\n",
       " 3: 'DogsAllowed',\n",
       " 4: 'Doorman',\n",
       " 5: 'Dishwasher',\n",
       " 6: 'NoFee',\n",
       " 7: 'LaundryinBuilding',\n",
       " 8: 'FitnessCenter',\n",
       " 9: 'Pre-War',\n",
       " 10: 'LaundryinUnit',\n",
       " 11: 'RoofDeck',\n",
       " 12: 'OutdoorSpace',\n",
       " 13: 'DiningRoom',\n",
       " 14: 'HighSpeedInternet',\n",
       " 15: 'Balcony',\n",
       " 16: 'SwimmingPool',\n",
       " 17: 'LaundryInBuilding',\n",
       " 18: 'NewConstruction',\n",
       " 19: 'Terrace'}"
      ]
     },
     "execution_count": 235,
     "metadata": {},
     "output_type": "execute_result"
    }
   ],
   "source": [
    "rename_dict = dict(zip(range(20), top_20_features))\n",
    "rename_dict"
   ]
  },
  {
   "cell_type": "code",
   "execution_count": 236,
   "metadata": {
    "id": "eWQWubFGBLC_"
   },
   "outputs": [],
   "source": [
    "df_encoded = df_encoded.rename(columns=rename_dict)"
   ]
  },
  {
   "cell_type": "code",
   "execution_count": 237,
   "metadata": {
    "colab": {
     "base_uri": "https://localhost:8080/",
     "height": 461
    },
    "id": "8S5ynEn95Wbe",
    "outputId": "2746d96b-99c1-4cb7-c388-eca8ad64e890"
   },
   "outputs": [
    {
     "data": {
      "text/html": [
       "<div>\n",
       "<style scoped>\n",
       "    .dataframe tbody tr th:only-of-type {\n",
       "        vertical-align: middle;\n",
       "    }\n",
       "\n",
       "    .dataframe tbody tr th {\n",
       "        vertical-align: top;\n",
       "    }\n",
       "\n",
       "    .dataframe thead th {\n",
       "        text-align: right;\n",
       "    }\n",
       "</style>\n",
       "<table border=\"1\" class=\"dataframe\">\n",
       "  <thead>\n",
       "    <tr style=\"text-align: right;\">\n",
       "      <th></th>\n",
       "      <th>Elevator</th>\n",
       "      <th>CatsAllowed</th>\n",
       "      <th>HardwoodFloors</th>\n",
       "      <th>DogsAllowed</th>\n",
       "      <th>Doorman</th>\n",
       "      <th>Dishwasher</th>\n",
       "      <th>NoFee</th>\n",
       "      <th>LaundryinBuilding</th>\n",
       "      <th>FitnessCenter</th>\n",
       "      <th>Pre-War</th>\n",
       "      <th>LaundryinUnit</th>\n",
       "      <th>RoofDeck</th>\n",
       "      <th>OutdoorSpace</th>\n",
       "      <th>DiningRoom</th>\n",
       "      <th>HighSpeedInternet</th>\n",
       "      <th>Balcony</th>\n",
       "      <th>SwimmingPool</th>\n",
       "      <th>LaundryInBuilding</th>\n",
       "      <th>NewConstruction</th>\n",
       "      <th>Terrace</th>\n",
       "    </tr>\n",
       "  </thead>\n",
       "  <tbody>\n",
       "    <tr>\n",
       "      <th>0</th>\n",
       "      <td>0.0</td>\n",
       "      <td>1.0</td>\n",
       "      <td>1.0</td>\n",
       "      <td>1.0</td>\n",
       "      <td>0.0</td>\n",
       "      <td>1.0</td>\n",
       "      <td>0.0</td>\n",
       "      <td>1.0</td>\n",
       "      <td>0.0</td>\n",
       "      <td>1.0</td>\n",
       "      <td>0.0</td>\n",
       "      <td>0.0</td>\n",
       "      <td>0.0</td>\n",
       "      <td>1.0</td>\n",
       "      <td>0.0</td>\n",
       "      <td>0.0</td>\n",
       "      <td>0.0</td>\n",
       "      <td>0.0</td>\n",
       "      <td>0.0</td>\n",
       "      <td>0.0</td>\n",
       "    </tr>\n",
       "    <tr>\n",
       "      <th>1</th>\n",
       "      <td>1.0</td>\n",
       "      <td>0.0</td>\n",
       "      <td>1.0</td>\n",
       "      <td>0.0</td>\n",
       "      <td>1.0</td>\n",
       "      <td>1.0</td>\n",
       "      <td>1.0</td>\n",
       "      <td>1.0</td>\n",
       "      <td>0.0</td>\n",
       "      <td>0.0</td>\n",
       "      <td>0.0</td>\n",
       "      <td>0.0</td>\n",
       "      <td>0.0</td>\n",
       "      <td>0.0</td>\n",
       "      <td>0.0</td>\n",
       "      <td>0.0</td>\n",
       "      <td>0.0</td>\n",
       "      <td>0.0</td>\n",
       "      <td>0.0</td>\n",
       "      <td>0.0</td>\n",
       "    </tr>\n",
       "    <tr>\n",
       "      <th>2</th>\n",
       "      <td>1.0</td>\n",
       "      <td>0.0</td>\n",
       "      <td>1.0</td>\n",
       "      <td>0.0</td>\n",
       "      <td>1.0</td>\n",
       "      <td>1.0</td>\n",
       "      <td>0.0</td>\n",
       "      <td>1.0</td>\n",
       "      <td>0.0</td>\n",
       "      <td>0.0</td>\n",
       "      <td>1.0</td>\n",
       "      <td>0.0</td>\n",
       "      <td>0.0</td>\n",
       "      <td>0.0</td>\n",
       "      <td>0.0</td>\n",
       "      <td>0.0</td>\n",
       "      <td>0.0</td>\n",
       "      <td>0.0</td>\n",
       "      <td>0.0</td>\n",
       "      <td>0.0</td>\n",
       "    </tr>\n",
       "    <tr>\n",
       "      <th>3</th>\n",
       "      <td>0.0</td>\n",
       "      <td>0.0</td>\n",
       "      <td>0.0</td>\n",
       "      <td>0.0</td>\n",
       "      <td>0.0</td>\n",
       "      <td>0.0</td>\n",
       "      <td>0.0</td>\n",
       "      <td>0.0</td>\n",
       "      <td>0.0</td>\n",
       "      <td>0.0</td>\n",
       "      <td>0.0</td>\n",
       "      <td>0.0</td>\n",
       "      <td>0.0</td>\n",
       "      <td>0.0</td>\n",
       "      <td>0.0</td>\n",
       "      <td>0.0</td>\n",
       "      <td>0.0</td>\n",
       "      <td>0.0</td>\n",
       "      <td>0.0</td>\n",
       "      <td>0.0</td>\n",
       "    </tr>\n",
       "    <tr>\n",
       "      <th>4</th>\n",
       "      <td>1.0</td>\n",
       "      <td>0.0</td>\n",
       "      <td>0.0</td>\n",
       "      <td>0.0</td>\n",
       "      <td>1.0</td>\n",
       "      <td>0.0</td>\n",
       "      <td>0.0</td>\n",
       "      <td>1.0</td>\n",
       "      <td>1.0</td>\n",
       "      <td>0.0</td>\n",
       "      <td>0.0</td>\n",
       "      <td>0.0</td>\n",
       "      <td>0.0</td>\n",
       "      <td>0.0</td>\n",
       "      <td>0.0</td>\n",
       "      <td>0.0</td>\n",
       "      <td>0.0</td>\n",
       "      <td>0.0</td>\n",
       "      <td>0.0</td>\n",
       "      <td>0.0</td>\n",
       "    </tr>\n",
       "    <tr>\n",
       "      <th>...</th>\n",
       "      <td>...</td>\n",
       "      <td>...</td>\n",
       "      <td>...</td>\n",
       "      <td>...</td>\n",
       "      <td>...</td>\n",
       "      <td>...</td>\n",
       "      <td>...</td>\n",
       "      <td>...</td>\n",
       "      <td>...</td>\n",
       "      <td>...</td>\n",
       "      <td>...</td>\n",
       "      <td>...</td>\n",
       "      <td>...</td>\n",
       "      <td>...</td>\n",
       "      <td>...</td>\n",
       "      <td>...</td>\n",
       "      <td>...</td>\n",
       "      <td>...</td>\n",
       "      <td>...</td>\n",
       "      <td>...</td>\n",
       "    </tr>\n",
       "    <tr>\n",
       "      <th>49347</th>\n",
       "      <td>1.0</td>\n",
       "      <td>0.0</td>\n",
       "      <td>1.0</td>\n",
       "      <td>0.0</td>\n",
       "      <td>0.0</td>\n",
       "      <td>1.0</td>\n",
       "      <td>0.0</td>\n",
       "      <td>0.0</td>\n",
       "      <td>0.0</td>\n",
       "      <td>0.0</td>\n",
       "      <td>0.0</td>\n",
       "      <td>0.0</td>\n",
       "      <td>0.0</td>\n",
       "      <td>0.0</td>\n",
       "      <td>0.0</td>\n",
       "      <td>0.0</td>\n",
       "      <td>0.0</td>\n",
       "      <td>0.0</td>\n",
       "      <td>0.0</td>\n",
       "      <td>0.0</td>\n",
       "    </tr>\n",
       "    <tr>\n",
       "      <th>49348</th>\n",
       "      <td>1.0</td>\n",
       "      <td>1.0</td>\n",
       "      <td>0.0</td>\n",
       "      <td>1.0</td>\n",
       "      <td>1.0</td>\n",
       "      <td>0.0</td>\n",
       "      <td>1.0</td>\n",
       "      <td>0.0</td>\n",
       "      <td>0.0</td>\n",
       "      <td>0.0</td>\n",
       "      <td>0.0</td>\n",
       "      <td>0.0</td>\n",
       "      <td>0.0</td>\n",
       "      <td>0.0</td>\n",
       "      <td>0.0</td>\n",
       "      <td>0.0</td>\n",
       "      <td>0.0</td>\n",
       "      <td>1.0</td>\n",
       "      <td>0.0</td>\n",
       "      <td>0.0</td>\n",
       "    </tr>\n",
       "    <tr>\n",
       "      <th>49349</th>\n",
       "      <td>1.0</td>\n",
       "      <td>1.0</td>\n",
       "      <td>1.0</td>\n",
       "      <td>1.0</td>\n",
       "      <td>0.0</td>\n",
       "      <td>1.0</td>\n",
       "      <td>1.0</td>\n",
       "      <td>1.0</td>\n",
       "      <td>0.0</td>\n",
       "      <td>1.0</td>\n",
       "      <td>1.0</td>\n",
       "      <td>0.0</td>\n",
       "      <td>0.0</td>\n",
       "      <td>1.0</td>\n",
       "      <td>0.0</td>\n",
       "      <td>0.0</td>\n",
       "      <td>0.0</td>\n",
       "      <td>0.0</td>\n",
       "      <td>0.0</td>\n",
       "      <td>0.0</td>\n",
       "    </tr>\n",
       "    <tr>\n",
       "      <th>49350</th>\n",
       "      <td>0.0</td>\n",
       "      <td>0.0</td>\n",
       "      <td>0.0</td>\n",
       "      <td>0.0</td>\n",
       "      <td>0.0</td>\n",
       "      <td>1.0</td>\n",
       "      <td>1.0</td>\n",
       "      <td>0.0</td>\n",
       "      <td>0.0</td>\n",
       "      <td>1.0</td>\n",
       "      <td>1.0</td>\n",
       "      <td>0.0</td>\n",
       "      <td>1.0</td>\n",
       "      <td>0.0</td>\n",
       "      <td>0.0</td>\n",
       "      <td>0.0</td>\n",
       "      <td>0.0</td>\n",
       "      <td>0.0</td>\n",
       "      <td>0.0</td>\n",
       "      <td>0.0</td>\n",
       "    </tr>\n",
       "    <tr>\n",
       "      <th>49351</th>\n",
       "      <td>1.0</td>\n",
       "      <td>0.0</td>\n",
       "      <td>1.0</td>\n",
       "      <td>0.0</td>\n",
       "      <td>0.0</td>\n",
       "      <td>1.0</td>\n",
       "      <td>1.0</td>\n",
       "      <td>1.0</td>\n",
       "      <td>0.0</td>\n",
       "      <td>0.0</td>\n",
       "      <td>0.0</td>\n",
       "      <td>0.0</td>\n",
       "      <td>0.0</td>\n",
       "      <td>1.0</td>\n",
       "      <td>0.0</td>\n",
       "      <td>0.0</td>\n",
       "      <td>0.0</td>\n",
       "      <td>0.0</td>\n",
       "      <td>0.0</td>\n",
       "      <td>0.0</td>\n",
       "    </tr>\n",
       "  </tbody>\n",
       "</table>\n",
       "<p>49352 rows × 20 columns</p>\n",
       "</div>"
      ],
      "text/plain": [
       "       Elevator  CatsAllowed  HardwoodFloors  DogsAllowed  Doorman  \\\n",
       "0           0.0          1.0             1.0          1.0      0.0   \n",
       "1           1.0          0.0             1.0          0.0      1.0   \n",
       "2           1.0          0.0             1.0          0.0      1.0   \n",
       "3           0.0          0.0             0.0          0.0      0.0   \n",
       "4           1.0          0.0             0.0          0.0      1.0   \n",
       "...         ...          ...             ...          ...      ...   \n",
       "49347       1.0          0.0             1.0          0.0      0.0   \n",
       "49348       1.0          1.0             0.0          1.0      1.0   \n",
       "49349       1.0          1.0             1.0          1.0      0.0   \n",
       "49350       0.0          0.0             0.0          0.0      0.0   \n",
       "49351       1.0          0.0             1.0          0.0      0.0   \n",
       "\n",
       "       Dishwasher  NoFee  LaundryinBuilding  FitnessCenter  Pre-War  \\\n",
       "0             1.0    0.0                1.0            0.0      1.0   \n",
       "1             1.0    1.0                1.0            0.0      0.0   \n",
       "2             1.0    0.0                1.0            0.0      0.0   \n",
       "3             0.0    0.0                0.0            0.0      0.0   \n",
       "4             0.0    0.0                1.0            1.0      0.0   \n",
       "...           ...    ...                ...            ...      ...   \n",
       "49347         1.0    0.0                0.0            0.0      0.0   \n",
       "49348         0.0    1.0                0.0            0.0      0.0   \n",
       "49349         1.0    1.0                1.0            0.0      1.0   \n",
       "49350         1.0    1.0                0.0            0.0      1.0   \n",
       "49351         1.0    1.0                1.0            0.0      0.0   \n",
       "\n",
       "       LaundryinUnit  RoofDeck  OutdoorSpace  DiningRoom  HighSpeedInternet  \\\n",
       "0                0.0       0.0           0.0         1.0                0.0   \n",
       "1                0.0       0.0           0.0         0.0                0.0   \n",
       "2                1.0       0.0           0.0         0.0                0.0   \n",
       "3                0.0       0.0           0.0         0.0                0.0   \n",
       "4                0.0       0.0           0.0         0.0                0.0   \n",
       "...              ...       ...           ...         ...                ...   \n",
       "49347            0.0       0.0           0.0         0.0                0.0   \n",
       "49348            0.0       0.0           0.0         0.0                0.0   \n",
       "49349            1.0       0.0           0.0         1.0                0.0   \n",
       "49350            1.0       0.0           1.0         0.0                0.0   \n",
       "49351            0.0       0.0           0.0         1.0                0.0   \n",
       "\n",
       "       Balcony  SwimmingPool  LaundryInBuilding  NewConstruction  Terrace  \n",
       "0          0.0           0.0                0.0              0.0      0.0  \n",
       "1          0.0           0.0                0.0              0.0      0.0  \n",
       "2          0.0           0.0                0.0              0.0      0.0  \n",
       "3          0.0           0.0                0.0              0.0      0.0  \n",
       "4          0.0           0.0                0.0              0.0      0.0  \n",
       "...        ...           ...                ...              ...      ...  \n",
       "49347      0.0           0.0                0.0              0.0      0.0  \n",
       "49348      0.0           0.0                1.0              0.0      0.0  \n",
       "49349      0.0           0.0                0.0              0.0      0.0  \n",
       "49350      0.0           0.0                0.0              0.0      0.0  \n",
       "49351      0.0           0.0                0.0              0.0      0.0  \n",
       "\n",
       "[49352 rows x 20 columns]"
      ]
     },
     "execution_count": 237,
     "metadata": {},
     "output_type": "execute_result"
    }
   ],
   "source": [
    "df_encoded"
   ]
  },
  {
   "cell_type": "code",
   "execution_count": 238,
   "metadata": {
    "id": "VgNxs3MAB_jA"
   },
   "outputs": [],
   "source": [
    "df_train_with_features = pd.concat([df_train.reset_index(), df_encoded.reset_index()], axis=1)"
   ]
  },
  {
   "cell_type": "markdown",
   "metadata": {
    "id": "hfoeuJLBgYgR"
   },
   "source": [
    "## 3.9 Extend our features set with  'bathrooms',  'bedrooms', 'interest_level' and lets create a special variable feature_list with all feature names. Now there are 23 values. All models should be trained on these 23 features."
   ]
  },
  {
   "cell_type": "code",
   "execution_count": 239,
   "metadata": {
    "id": "I6VOsVPEFDO8"
   },
   "outputs": [],
   "source": [
    "df = df_train_with_features.drop(['building_id',\n",
    "                             'created',\n",
    "                             'description',\n",
    "                             'display_address',\n",
    "                             'features',\n",
    "                             'latitude',\n",
    "                             'listing_id',\n",
    "                             'longitude',\n",
    "                             'manager_id',\n",
    "                             'photos',\n",
    "                             'street_address',\n",
    "                             'features_n',\n",
    "                             'index'], axis=1)"
   ]
  },
  {
   "cell_type": "code",
   "execution_count": 240,
   "metadata": {
    "colab": {
     "base_uri": "https://localhost:8080/"
    },
    "id": "U_2LoYjv-ZHo",
    "outputId": "39dabb56-a7a6-4632-eb2e-15bb4698caaa"
   },
   "outputs": [
    {
     "data": {
      "text/plain": [
       "(49352, 24)"
      ]
     },
     "execution_count": 240,
     "metadata": {},
     "output_type": "execute_result"
    }
   ],
   "source": [
    "df.shape"
   ]
  },
  {
   "cell_type": "code",
   "execution_count": 241,
   "metadata": {
    "id": "Q_ud2fw1NfHc"
   },
   "outputs": [],
   "source": [
    "from sklearn.model_selection import train_test_split\n",
    "\n",
    "train, test = train_test_split(df, test_size=0.2 , random_state=0)"
   ]
  },
  {
   "cell_type": "code",
   "execution_count": 242,
   "metadata": {
    "colab": {
     "base_uri": "https://localhost:8080/"
    },
    "id": "PyNeYYkgN343",
    "outputId": "d57abab5-7f98-44fb-b81e-64e7c1e43b64"
   },
   "outputs": [
    {
     "data": {
      "text/plain": [
       "(39481, 24)"
      ]
     },
     "execution_count": 242,
     "metadata": {},
     "output_type": "execute_result"
    }
   ],
   "source": [
    "train.shape"
   ]
  },
  {
   "cell_type": "code",
   "execution_count": 243,
   "metadata": {
    "colab": {
     "base_uri": "https://localhost:8080/"
    },
    "id": "dwAS0CM9N-8C",
    "outputId": "9f197f6d-bff8-405c-b9fd-66187837cc41"
   },
   "outputs": [
    {
     "data": {
      "text/plain": [
       "(9871, 24)"
      ]
     },
     "execution_count": 243,
     "metadata": {},
     "output_type": "execute_result"
    }
   ],
   "source": [
    "test.shape"
   ]
  },
  {
   "cell_type": "code",
   "execution_count": 244,
   "metadata": {
    "id": "AXwEkT2xViY4"
   },
   "outputs": [],
   "source": [
    "# .to_numpy()\n",
    "X_train = train.drop(['price'], axis=1)\n",
    "Y_train = train[['price']]"
   ]
  },
  {
   "cell_type": "code",
   "execution_count": 245,
   "metadata": {
    "id": "dpRsQr6lVydm"
   },
   "outputs": [],
   "source": [
    "X_test = test.drop(['price'], axis=1)\n",
    "Y_test = test[['price']]"
   ]
  },
  {
   "cell_type": "markdown",
   "metadata": {
    "id": "s3uug1eXOHuH"
   },
   "source": [
    "# 4. Models implementation - linear regression"
   ]
  },
  {
   "cell_type": "markdown",
   "metadata": {
    "id": "Sf7iMZcCObXL"
   },
   "source": [
    "## 4.1 Implement python class for a linear regression algorithm with two basic methods - fit and predict. Use stochastic gradient descent to find optimal weights of the model. For better understanding we recommend additionally implementing separate versions of the algorithm with the analytical solution and non-stochastic gradient descent under the hood."
   ]
  },
  {
   "cell_type": "code",
   "execution_count": 246,
   "metadata": {},
   "outputs": [],
   "source": [
    "# def mse_mat(X, w, y):\n",
    "#     y_p = X.dot(w)\n",
    "#     return np.sum((y - y_p)**2) / len(y_p)\n",
    "\n",
    "# def gr_mse_mat(X, w, y):\n",
    "#     y_p = X.dot(w)\n",
    "#     return 2/len(X)*(y-y_p).dot(-X)\n",
    "\n",
    "# w = np.zeros(X.shape[1])\n",
    "# eps = 0.0001\n",
    "# learn_rate = 0.01\n",
    "# next_w = w.copy()\n",
    "\n",
    "# for i in range(99):\n",
    "#     cur_w = next_w\n",
    "#     next_w = cur_w - learn_rate*gr_mse_mat(X, cur_w, y)\n",
    "#     print(f'Iter: {i}')\n",
    "#     print(f'Cur w: {cur_w}')\n",
    "#     print(f'Next w: {next_w}')\n",
    "#     # print(f'MSE: {mse_mat(X, cur_w, y)}')\n",
    "#     print('------------------------------------------------------------------------------------------------')\n",
    "#     if np.linalg.norm(cur_w - next_w, ord=2) <= eps:\n",
    "#         break\n",
    "    "
   ]
  },
  {
   "cell_type": "code",
   "execution_count": 247,
   "metadata": {
    "id": "ykVbA2KFOALG"
   },
   "outputs": [],
   "source": [
    "class MyLinearRegression:\n",
    "  def __init__(self, alpha = 0.01, eps = 0.001, n_cycles=500, print_eps=False) -> None:\n",
    "    self.w = 0\n",
    "    self.alpha = alpha\n",
    "    self.eps = eps\n",
    "    self.n_cycles = n_cycles\n",
    "    self.print_eps = print_eps\n",
    "    \n",
    "  def fit(self, X:np.array, Y:np.array) -> None:\n",
    "    alpha = self.alpha\n",
    "    amount_samples, amount_features = X.shape\n",
    "    w = np.ones(amount_features).reshape(-1, 1)\n",
    "    for _ in range(self.n_cycles):\n",
    "      w_prev = w.copy()\n",
    "      f = (X @ w_prev)\n",
    "      err = f - Y\n",
    "      grad = 2 * X.T.dot(err)/amount_samples\n",
    "      w = w_prev - alpha * grad\n",
    "      if (w.max()>1e25) or (np.absolute(w - w_prev).sum() < self.eps):\n",
    "        break\n",
    "      elif self.print_eps:\n",
    "        print(np.absolute(w - w_prev).sum())\n",
    "    self.w = w\n",
    "  def predict(self, X:np.array) -> np.array:\n",
    "    return X.dot(self.w)"
   ]
  },
  {
   "cell_type": "markdown",
   "metadata": {
    "id": "7naLrJ5bP7Ht"
   },
   "source": [
    "## 4.2 Give definition for R squared (R2) coefficient and implement function for calculation."
   ]
  },
  {
   "cell_type": "markdown",
   "metadata": {
    "id": "KTUIiIo3TXWJ"
   },
   "source": [
    "Значение R2 описывает качество подгонки линии регрессии к данным. Оптимально подогнанная линия — это линия, которая минимизирует значение R2. По мере удаления либо приближения от своих оптимальных значений R2 всегда будет расти.\n",
    "https://habr.com/ru/articles/558084/"
   ]
  },
  {
   "cell_type": "code",
   "execution_count": 248,
   "metadata": {
    "id": "CmEIY0KVUYmV"
   },
   "outputs": [],
   "source": [
    "def r_squared(y_true, y_pred):\n",
    "    rss = (y_true - y_pred).var()\n",
    "    tss = (y_true - np.mean(y_true)).var()\n",
    "    return (1 - (rss / tss)[0])"
   ]
  },
  {
   "cell_type": "markdown",
   "metadata": {
    "id": "t2pOthcVk8vO"
   },
   "source": [
    "## 4.3 Make predictions with your algorithm and estimate model with MAE, RMSE and R2 metrics."
   ]
  },
  {
   "cell_type": "code",
   "execution_count": 249,
   "metadata": {
    "id": "BGer0Bw7_t-j"
   },
   "outputs": [
    {
     "data": {
      "text/plain": [
       "array([[2200.34005989],\n",
       "       [2639.23147669],\n",
       "       [3603.65590906],\n",
       "       ...,\n",
       "       [1806.94272377],\n",
       "       [2149.34727534],\n",
       "       [7248.39437791]])"
      ]
     },
     "execution_count": 249,
     "metadata": {},
     "output_type": "execute_result"
    }
   ],
   "source": [
    "my_lin_reg = MyLinearRegression()\n",
    "my_lin_reg.fit(X_train.to_numpy(), Y_train.to_numpy())\n",
    "yp_my_train = my_lin_reg.predict(X_train.to_numpy())\n",
    "yp_my_test = my_lin_reg.predict(X_test.to_numpy())\n",
    "yp_my_train"
   ]
  },
  {
   "cell_type": "code",
   "execution_count": 250,
   "metadata": {
    "colab": {
     "base_uri": "https://localhost:8080/"
    },
    "id": "XrB5fjToAEoV",
    "outputId": "7cb60c81-86b7-42ad-9b98-39ec137963a4"
   },
   "outputs": [],
   "source": [
    "mae_my_lin_reg_train = mean_absolute_error(Y_train, yp_my_train)\n",
    "mae_my_lin_reg_test = mean_absolute_error(Y_test, yp_my_test)"
   ]
  },
  {
   "cell_type": "code",
   "execution_count": 251,
   "metadata": {
    "id": "25574ao7BEgi"
   },
   "outputs": [],
   "source": [
    "rmse_my_lin_reg_train = np.sqrt(mean_squared_error(Y_train, yp_my_train))\n",
    "rmse_my_lin_reg_test = np.sqrt(mean_squared_error(Y_test, yp_my_test))"
   ]
  },
  {
   "cell_type": "code",
   "execution_count": 252,
   "metadata": {},
   "outputs": [
    {
     "name": "stderr",
     "output_type": "stream",
     "text": [
      "/var/folders/zz/zyxvpxvq6csfxvn_n003whnr00z45f/T/ipykernel_14532/2417243689.py:4: FutureWarning: Series.__getitem__ treating keys as positions is deprecated. In a future version, integer keys will always be treated as labels (consistent with DataFrame behavior). To access a value by position, use `ser.iloc[pos]`\n",
      "  return (1 - (rss / tss)[0])\n"
     ]
    }
   ],
   "source": [
    "r2_my_lin_reg_train = r_squared(Y_train, yp_my_train)\n",
    "r2_my_lin_reg_test = r_squared(Y_test, yp_my_test)"
   ]
  },
  {
   "cell_type": "code",
   "execution_count": 253,
   "metadata": {},
   "outputs": [
    {
     "data": {
      "text/plain": [
       "0.005444148539332394"
      ]
     },
     "execution_count": 253,
     "metadata": {},
     "output_type": "execute_result"
    }
   ],
   "source": [
    "r2_my_lin_reg_train"
   ]
  },
  {
   "cell_type": "markdown",
   "metadata": {},
   "source": [
    "## 4.4 Initialize LinearRegression() from sklearn.linear_model, fit model and predict train and test parts, same as previous lesson."
   ]
  },
  {
   "cell_type": "code",
   "execution_count": 254,
   "metadata": {
    "id": "8WjArmCQAVp0"
   },
   "outputs": [
    {
     "data": {
      "text/plain": [
       "array([[2210.43817982],\n",
       "       [2458.99829103],\n",
       "       [4064.1247018 ],\n",
       "       ...,\n",
       "       [1884.66146579],\n",
       "       [2096.88857321],\n",
       "       [7480.36729635]])"
      ]
     },
     "execution_count": 254,
     "metadata": {},
     "output_type": "execute_result"
    }
   ],
   "source": [
    "lin_reg = LinearRegression()\n",
    "lin_reg.fit(X_train, Y_train)\n",
    "yp_train = lin_reg.predict(X_train)\n",
    "yp_test = lin_reg.predict(X_test)\n",
    "yp_train"
   ]
  },
  {
   "cell_type": "markdown",
   "metadata": {},
   "source": [
    "## 4.5 Compare quality metrics and make sure that difference is small. (Between your implementations and sklearn)."
   ]
  },
  {
   "cell_type": "code",
   "execution_count": 255,
   "metadata": {},
   "outputs": [
    {
     "name": "stdout",
     "output_type": "stream",
     "text": [
      "MAE my : TRAIN:1142.32 TEST:1055.72\n",
      "MAE lib: TRAIN:1192.99 TEST:1105.73\n"
     ]
    }
   ],
   "source": [
    "print(f\"MAE my : TRAIN:{mae_my_lin_reg_train:.2f} TEST:{mae_my_lin_reg_test:.2f}\")\n",
    "print(f\"MAE lib: TRAIN:{mean_absolute_error(Y_train, yp_train):.2f} TEST:{mean_absolute_error(Y_test, yp_test):.2f}\")\n"
   ]
  },
  {
   "cell_type": "code",
   "execution_count": 256,
   "metadata": {},
   "outputs": [
    {
     "name": "stdout",
     "output_type": "stream",
     "text": [
      "RMSE my : TRAIN:23985.77 TEST:10860.49\n",
      "RMSE lib: TRAIN:23984.30 TEST:10860.25\n"
     ]
    }
   ],
   "source": [
    "print(f\"RMSE my : TRAIN:{rmse_my_lin_reg_train:.2f} TEST:{rmse_my_lin_reg_test:.2f}\")\n",
    "print(f\"RMSE lib: TRAIN:{np.sqrt(mean_squared_error(Y_train, yp_train)):.2f} TEST:{np.sqrt(mean_squared_error(Y_test, yp_test)):.2f}\")"
   ]
  },
  {
   "cell_type": "code",
   "execution_count": 257,
   "metadata": {},
   "outputs": [
    {
     "name": "stdout",
     "output_type": "stream",
     "text": [
      "R2 my : TRAIN:0.00544 TEST:0.02396\n",
      "R2 lib: TRAIN:0.00557 TEST:0.02403\n"
     ]
    },
    {
     "name": "stderr",
     "output_type": "stream",
     "text": [
      "/var/folders/zz/zyxvpxvq6csfxvn_n003whnr00z45f/T/ipykernel_14532/2417243689.py:4: FutureWarning: Series.__getitem__ treating keys as positions is deprecated. In a future version, integer keys will always be treated as labels (consistent with DataFrame behavior). To access a value by position, use `ser.iloc[pos]`\n",
      "  return (1 - (rss / tss)[0])\n"
     ]
    }
   ],
   "source": [
    "print(f\"R2 my : TRAIN:{r2_my_lin_reg_train:.5f} TEST:{r2_my_lin_reg_test:.5f}\")\n",
    "print(f\"R2 lib: TRAIN:{r_squared(Y_train, yp_train):.5f} TEST:{r_squared(Y_test, yp_test):.5f}\")"
   ]
  },
  {
   "cell_type": "markdown",
   "metadata": {},
   "source": [
    "Как видим разница показателей между собственной реализацией и библиотечной минимальна"
   ]
  },
  {
   "cell_type": "markdown",
   "metadata": {},
   "source": [
    "## 4.6 Save metrics as in the previous lesson in a table with columns model, train, test for MAE table, RMSE table and R2 coefficient."
   ]
  },
  {
   "cell_type": "code",
   "execution_count": 258,
   "metadata": {},
   "outputs": [],
   "source": [
    "result_MAE = pd.DataFrame({'model': [], 'train': [], 'test': []})\n",
    "result_RMSE = pd.DataFrame({'model': [], 'train': [], 'test': []})\n",
    "result_R2 = pd.DataFrame({'model': [], 'train': [], 'test': []})"
   ]
  },
  {
   "cell_type": "code",
   "execution_count": 259,
   "metadata": {
    "id": "L9yphig5k-qP"
   },
   "outputs": [],
   "source": [
    "result_MAE.loc[len(result_MAE)] = ['linreg_default', mae_my_lin_reg_train, mae_my_lin_reg_test]\n",
    "result_RMSE.loc[len(result_RMSE)] = ['linreg_default', rmse_my_lin_reg_train, rmse_my_lin_reg_test]\n",
    "result_R2.loc[len(result_R2)] = ['linreg_default', r2_my_lin_reg_train, r2_my_lin_reg_test]"
   ]
  },
  {
   "cell_type": "markdown",
   "metadata": {},
   "source": [
    "# 5. Regularized models implementation - Ridge, Lasso, ElasticNet"
   ]
  },
  {
   "cell_type": "markdown",
   "metadata": {},
   "source": [
    "## 5.1 Implement Ridge, Lasso, ElasticNet algorithms: extend loss function with L2, L1 and both regularization correspondingly."
   ]
  },
  {
   "cell_type": "markdown",
   "metadata": {},
   "source": [
    "Аналитическое решение  \n",
    "функция\n",
    "\n",
    "$$ L(w) = ||Xw - Y||^2_2 + ||\\Gamma w||^2_2 $$\n",
    "\n",
    "минимизируется при:\n",
    "\n",
    "$$ w = (X^TX + \\Gamma^T \\Gamma)^{-1}X^TY $$\n",
    "\n",
    "В нашем случае $\\Gamma^T\\Gamma = \\lambda I$, если нет свободного члена, иначе:\n",
    "$\\Gamma^T\\Gamma =\n",
    "\\left(\\begin{matrix}\n",
    "\\lambda I & 0 \\\\\n",
    "0 & 0\n",
    "\\end{matrix}\\right)$"
   ]
  },
  {
   "cell_type": "code",
   "execution_count": 260,
   "metadata": {},
   "outputs": [],
   "source": [
    "class MyL2:\n",
    "  def __init__(self) -> None:\n",
    "    self.w = 0\n",
    "  def fit(self, X, Y) -> None:\n",
    "    amount_samples, amount_features = X.shape\n",
    "    L = 20\n",
    "    IL = np.array([[L if i == j else 0 for j in range(amount_features)] for i in range(amount_features)])\n",
    "    IL[0][0] = 0\n",
    "    A = np.linalg.inv(X.T @ X + IL)\n",
    "    w = Y.iloc[:,0] @ X @ A\n",
    "    self.w = w\n",
    "  def get_w(self):\n",
    "      return self.w\n",
    "  def predict(self, X) -> pd.DataFrame:\n",
    "    return pd.DataFrame(X.dot(self.w)).to_numpy().reshape(-1,1)"
   ]
  },
  {
   "cell_type": "markdown",
   "metadata": {},
   "source": [
    "**Градиент:**\n",
    "$$\n",
    "\\frac{\\partial{L}}{\\partial{w}}\n",
    "= \\frac{1}{n}(X^TXw - X^TY) + \\lambda sign(w)\n",
    "= \\frac{1}{n}X^T(y_{pred} - Y) + \\lambda sign(w)\n",
    "$$\n",
    "\n",
    "где для приближения будем считать что $|\\cdot|$ - дифференцируемая функция, ее производной является $sign(\\cdot)$"
   ]
  },
  {
   "cell_type": "code",
   "execution_count": 261,
   "metadata": {},
   "outputs": [],
   "source": [
    "\n",
    "class MyL1:\n",
    "  def __init__(self, n_cycles=500, print_eps=False, eps = 0.1, alpha = 0.03 ) -> None:\n",
    "    self.w = 0\n",
    "    self.n_cycles = n_cycles\n",
    "    self.print_eps = print_eps\n",
    "    self.eps = eps\n",
    "    self.alpha= alpha\n",
    "\n",
    "  def fit(self, X, Y) -> None:\n",
    "    alpha = self.alpha # шаг обучения\n",
    "    lm = 0.3\n",
    "    amount_samples, amount_features = X.shape\n",
    "    w = np.random.normal(size=amount_features)\n",
    "    np_soft_sign = np.vectorize(lambda x, eps=1e-7: np.sign(x) if abs(x) > eps else x / eps)\n",
    "    for _ in range(self.n_cycles):\n",
    "      signw = np_soft_sign(self.w)\n",
    "      f = X.dot(w)\n",
    "      err = f - np.array(Y.iloc[:,0])\n",
    "      grad = 2 * X.T.dot(err)/amount_samples + lm*signw\n",
    "      if (w.max()>1e25) or (np.absolute(alpha * grad).sum() < self.eps):\n",
    "        break\n",
    "      elif self.print_eps:\n",
    "        print(np.absolute(alpha * grad).sum())\n",
    "      w -= alpha * grad\n",
    "    self.w = w\n",
    "  def predict(self, X) -> pd.DataFrame:\n",
    "    return pd.DataFrame(X.dot(self.w)).to_numpy().reshape(-1,1)"
   ]
  },
  {
   "cell_type": "code",
   "execution_count": 262,
   "metadata": {},
   "outputs": [],
   "source": [
    "class MyElasticNet:\n",
    "  def __init__(self, l1_ratio = 0.5, n_cycles=500, print_eps=False, eps=0.1, alpha = 0.03) -> None:\n",
    "    self.w = 0\n",
    "    self.l1_ratio = l1_ratio\n",
    "    self.n_cycles = n_cycles\n",
    "    self.print_eps = print_eps\n",
    "    self.eps = eps\n",
    "    self.alpha= alpha\n",
    "\n",
    "  def fit(self, X, Y) -> None:\n",
    "    alpha = self.alpha # шаг обучения\n",
    "    lm = 0.3 # лямбда, коэф забывания, для л1\n",
    "    amount_samples, amount_features = X.shape\n",
    "    w = np.random.normal(size=amount_features)\n",
    "    np_soft_sign = np.vectorize(lambda x, eps=1e-7: np.sign(x) if abs(x) > eps else x / eps)\n",
    "    for _ in range(self.n_cycles):\n",
    "      signw = np_soft_sign(self.w)\n",
    "      f = X.dot(w)\n",
    "      err = f - np.array(Y.iloc[:,0])\n",
    "      grad = 2 * X.T.dot(err)/amount_samples + (1-self.l1_ratio)*w + (self.l1_ratio)*lm*signw\n",
    "      if (w.max()>1e25) or (np.absolute(alpha * grad).sum() < self.eps):\n",
    "        break\n",
    "      elif self.print_eps:\n",
    "        print(np.absolute(alpha * grad).sum())\n",
    "      w -= alpha * grad\n",
    "    self.w = w\n",
    "  def predict(self, X) -> pd.DataFrame:\n",
    "    return pd.DataFrame(X.dot(self.w)).to_numpy().reshape(-1,1)"
   ]
  },
  {
   "cell_type": "markdown",
   "metadata": {},
   "source": [
    "## 5.2 Make predictions with your algorithm and estimate the model with MAE, RMSE and R2 metrics."
   ]
  },
  {
   "cell_type": "markdown",
   "metadata": {},
   "source": [
    "### Ridge"
   ]
  },
  {
   "cell_type": "code",
   "execution_count": 263,
   "metadata": {},
   "outputs": [],
   "source": [
    "my_L2 = MyL2()\n",
    "my_L2.fit(X_train, Y_train)\n",
    "yp_my_L2_train = my_L2.predict(X_train)\n",
    "yp_my_L2_test = my_L2.predict(X_test)"
   ]
  },
  {
   "cell_type": "code",
   "execution_count": 264,
   "metadata": {},
   "outputs": [],
   "source": [
    "mae_l2_train = mean_absolute_error(Y_train, yp_my_L2_train)\n",
    "mae_l2_test = mean_absolute_error(Y_test, yp_my_L2_test)"
   ]
  },
  {
   "cell_type": "code",
   "execution_count": 265,
   "metadata": {},
   "outputs": [],
   "source": [
    "rmse_l2_train = np.sqrt(mean_squared_error(Y_train, yp_my_L2_train))\n",
    "rmse_l2_test = np.sqrt(mean_squared_error(Y_test, yp_my_L2_test))"
   ]
  },
  {
   "cell_type": "code",
   "execution_count": 266,
   "metadata": {},
   "outputs": [
    {
     "name": "stderr",
     "output_type": "stream",
     "text": [
      "/var/folders/zz/zyxvpxvq6csfxvn_n003whnr00z45f/T/ipykernel_14532/2417243689.py:4: FutureWarning: Series.__getitem__ treating keys as positions is deprecated. In a future version, integer keys will always be treated as labels (consistent with DataFrame behavior). To access a value by position, use `ser.iloc[pos]`\n",
      "  return (1 - (rss / tss)[0])\n"
     ]
    }
   ],
   "source": [
    "r2_l2_train = r_squared(Y_train, yp_my_L2_train)\n",
    "r2_l2_test = r_squared(Y_test, yp_my_L2_test)"
   ]
  },
  {
   "cell_type": "markdown",
   "metadata": {},
   "source": [
    "### Lasso"
   ]
  },
  {
   "cell_type": "code",
   "execution_count": 267,
   "metadata": {},
   "outputs": [],
   "source": [
    "my_L1 = MyL1()\n",
    "my_L1.fit(X_train, Y_train)\n",
    "yp_my_l1_train = my_L1.predict(X_train)\n",
    "yp_my_l1_test = my_L1.predict(X_test)"
   ]
  },
  {
   "cell_type": "code",
   "execution_count": 268,
   "metadata": {},
   "outputs": [],
   "source": [
    "mae_l1_train = mean_absolute_error(Y_train, yp_my_l1_train)\n",
    "mae_l1_test = mean_absolute_error(Y_test, yp_my_l1_test)"
   ]
  },
  {
   "cell_type": "code",
   "execution_count": 269,
   "metadata": {},
   "outputs": [],
   "source": [
    "rmse_l1_train = np.sqrt(mean_squared_error(Y_train, yp_my_l1_train))\n",
    "rmse_l1_test = np.sqrt(mean_squared_error(Y_test, yp_my_l1_test))"
   ]
  },
  {
   "cell_type": "code",
   "execution_count": 270,
   "metadata": {},
   "outputs": [
    {
     "name": "stderr",
     "output_type": "stream",
     "text": [
      "/var/folders/zz/zyxvpxvq6csfxvn_n003whnr00z45f/T/ipykernel_14532/2417243689.py:4: FutureWarning: Series.__getitem__ treating keys as positions is deprecated. In a future version, integer keys will always be treated as labels (consistent with DataFrame behavior). To access a value by position, use `ser.iloc[pos]`\n",
      "  return (1 - (rss / tss)[0])\n"
     ]
    }
   ],
   "source": [
    "r2_l1_train = r_squared(Y_train, yp_my_l1_train)\n",
    "r2_l1_test = r_squared(Y_test, yp_my_l1_test)"
   ]
  },
  {
   "cell_type": "markdown",
   "metadata": {},
   "source": [
    "### Elatic Net"
   ]
  },
  {
   "cell_type": "code",
   "execution_count": 271,
   "metadata": {},
   "outputs": [],
   "source": [
    "my_EN = MyElasticNet()\n",
    "my_EN.fit(X_train, Y_train)\n",
    "yp_my_en_train = my_EN.predict(X_train)\n",
    "yp_my_en_test = my_EN.predict(X_test)"
   ]
  },
  {
   "cell_type": "code",
   "execution_count": 272,
   "metadata": {},
   "outputs": [],
   "source": [
    "mae_en_my_train = mean_absolute_error(Y_train, yp_my_en_train)\n",
    "mae_en_my_test = mean_absolute_error(Y_test, yp_my_en_test)"
   ]
  },
  {
   "cell_type": "code",
   "execution_count": 273,
   "metadata": {},
   "outputs": [],
   "source": [
    "rmse_en_my_train = np.sqrt(mean_squared_error(Y_train, yp_my_en_train))\n",
    "rmse_en_my_test = np.sqrt(mean_squared_error(Y_test, yp_my_en_test))"
   ]
  },
  {
   "cell_type": "code",
   "execution_count": 274,
   "metadata": {},
   "outputs": [
    {
     "name": "stderr",
     "output_type": "stream",
     "text": [
      "/var/folders/zz/zyxvpxvq6csfxvn_n003whnr00z45f/T/ipykernel_14532/2417243689.py:4: FutureWarning: Series.__getitem__ treating keys as positions is deprecated. In a future version, integer keys will always be treated as labels (consistent with DataFrame behavior). To access a value by position, use `ser.iloc[pos]`\n",
      "  return (1 - (rss / tss)[0])\n"
     ]
    }
   ],
   "source": [
    "r2_en_my_train = r_squared(Y_train, yp_my_en_train)\n",
    "r2_en_my_test = r_squared(Y_test, yp_my_en_test)"
   ]
  },
  {
   "cell_type": "markdown",
   "metadata": {},
   "source": [
    "## 5.3 Initialize Ridge(), Lasso() and ElasticNet() from sklearn.linear_model, fit model and make prediction for train and test samples, same as previous lesson."
   ]
  },
  {
   "cell_type": "code",
   "execution_count": 275,
   "metadata": {},
   "outputs": [],
   "source": [
    "ridge_model = Ridge()\n",
    "ridge_model.fit(X_train, Y_train)\n",
    "ridge_train_predictions = ridge_model.predict(X_train)\n",
    "ridge_test_predictions = ridge_model.predict(X_test)"
   ]
  },
  {
   "cell_type": "code",
   "execution_count": 276,
   "metadata": {},
   "outputs": [],
   "source": [
    "mae_ridge_train = mean_absolute_error(Y_train, ridge_train_predictions)\n",
    "mae_ridge_test = mean_absolute_error(Y_test, ridge_test_predictions)"
   ]
  },
  {
   "cell_type": "code",
   "execution_count": 277,
   "metadata": {},
   "outputs": [],
   "source": [
    "rmse_ridge_train = np.sqrt(mean_squared_error(Y_train, ridge_train_predictions))\n",
    "rmse_ridge_test = np.sqrt(mean_squared_error(Y_test, ridge_test_predictions))"
   ]
  },
  {
   "cell_type": "code",
   "execution_count": 278,
   "metadata": {},
   "outputs": [
    {
     "name": "stderr",
     "output_type": "stream",
     "text": [
      "/var/folders/zz/zyxvpxvq6csfxvn_n003whnr00z45f/T/ipykernel_14532/2417243689.py:4: FutureWarning: Series.__getitem__ treating keys as positions is deprecated. In a future version, integer keys will always be treated as labels (consistent with DataFrame behavior). To access a value by position, use `ser.iloc[pos]`\n",
      "  return (1 - (rss / tss)[0])\n"
     ]
    }
   ],
   "source": [
    "r2_ridge_train = r_squared(Y_train, ridge_train_predictions)\n",
    "r2_ridge_test = r_squared(Y_test, ridge_test_predictions)"
   ]
  },
  {
   "cell_type": "code",
   "execution_count": 279,
   "metadata": {},
   "outputs": [],
   "source": [
    "lasso_model = Lasso()\n",
    "lasso_model.fit(X_train, Y_train)\n",
    "lasso_train_predictions = lasso_model.predict(X_train)\n",
    "lasso_test_predictions = lasso_model.predict(X_test)"
   ]
  },
  {
   "cell_type": "code",
   "execution_count": 280,
   "metadata": {},
   "outputs": [],
   "source": [
    "mae_lasso_train = mean_absolute_error(Y_train, lasso_train_predictions)\n",
    "mae_lasso_test = mean_absolute_error(Y_test, lasso_test_predictions)"
   ]
  },
  {
   "cell_type": "code",
   "execution_count": 281,
   "metadata": {},
   "outputs": [],
   "source": [
    "rmse_lasso_train = np.sqrt(mean_squared_error(Y_train, lasso_train_predictions))\n",
    "rmse_lasso_test = np.sqrt(mean_squared_error(Y_test, lasso_test_predictions))"
   ]
  },
  {
   "cell_type": "code",
   "execution_count": 282,
   "metadata": {},
   "outputs": [
    {
     "name": "stderr",
     "output_type": "stream",
     "text": [
      "/var/folders/zz/zyxvpxvq6csfxvn_n003whnr00z45f/T/ipykernel_14532/2417243689.py:4: FutureWarning: Series.__getitem__ treating keys as positions is deprecated. In a future version, integer keys will always be treated as labels (consistent with DataFrame behavior). To access a value by position, use `ser.iloc[pos]`\n",
      "  return (1 - (rss / tss)[0])\n"
     ]
    }
   ],
   "source": [
    "r2_lasso_train = r_squared(Y_train, lasso_train_predictions.reshape(-1,1))\n",
    "r2_lasso_test = r_squared(Y_test, lasso_test_predictions.reshape(-1,1))"
   ]
  },
  {
   "cell_type": "code",
   "execution_count": 283,
   "metadata": {},
   "outputs": [],
   "source": [
    "en_model = ElasticNet( l1_ratio=0.5)\n",
    "en_model.fit(X_train, Y_train)\n",
    "en_train_predictions = en_model.predict(X_train)\n",
    "en_test_predictions = en_model.predict(X_test)"
   ]
  },
  {
   "cell_type": "code",
   "execution_count": 284,
   "metadata": {},
   "outputs": [],
   "source": [
    "mae_en_train = mean_absolute_error(Y_train, en_train_predictions)\n",
    "mae_en_test = mean_absolute_error(Y_test, en_test_predictions)"
   ]
  },
  {
   "cell_type": "code",
   "execution_count": 285,
   "metadata": {},
   "outputs": [],
   "source": [
    "rmse_en_train = np.sqrt(mean_squared_error(Y_train, en_train_predictions))\n",
    "rmse_en_test = np.sqrt(mean_squared_error(Y_test, en_test_predictions))"
   ]
  },
  {
   "cell_type": "code",
   "execution_count": 286,
   "metadata": {},
   "outputs": [
    {
     "name": "stderr",
     "output_type": "stream",
     "text": [
      "/var/folders/zz/zyxvpxvq6csfxvn_n003whnr00z45f/T/ipykernel_14532/2417243689.py:4: FutureWarning: Series.__getitem__ treating keys as positions is deprecated. In a future version, integer keys will always be treated as labels (consistent with DataFrame behavior). To access a value by position, use `ser.iloc[pos]`\n",
      "  return (1 - (rss / tss)[0])\n"
     ]
    }
   ],
   "source": [
    "r2_en_train = r_squared(Y_train, en_train_predictions.reshape(-1,1))\n",
    "r2_en_test = r_squared(Y_test, en_test_predictions.reshape(-1,1))"
   ]
  },
  {
   "cell_type": "markdown",
   "metadata": {},
   "source": [
    "## 5.4 Compare quality metrics and make sure that difference is small. (Between your implementations and sklearn)."
   ]
  },
  {
   "cell_type": "markdown",
   "metadata": {},
   "source": [
    "### Ridge"
   ]
  },
  {
   "cell_type": "code",
   "execution_count": 287,
   "metadata": {},
   "outputs": [
    {
     "name": "stdout",
     "output_type": "stream",
     "text": [
      "L2 MAE my : TRAIN:1191.36 TEST:1103.74\n",
      "L2 MAE lib: TRAIN:1192.93 TEST:1105.66\n"
     ]
    }
   ],
   "source": [
    "print(f\"L2 MAE my : TRAIN:{mae_l2_train:.2f} TEST:{mae_l2_test:.2f}\")\n",
    "print(f\"L2 MAE lib: TRAIN:{mae_ridge_train:.2f} TEST:{mae_ridge_test:.2f}\")\n"
   ]
  },
  {
   "cell_type": "code",
   "execution_count": 288,
   "metadata": {},
   "outputs": [
    {
     "name": "stdout",
     "output_type": "stream",
     "text": [
      "L2 RMSE my : TRAIN:23984.32 TEST:10859.92\n",
      "L2 RMSE lib: TRAIN:23984.30 TEST:10860.24\n"
     ]
    }
   ],
   "source": [
    "print(f\"L2 RMSE my : TRAIN:{rmse_l2_train:.2f} TEST:{rmse_l2_test:.2f}\")\n",
    "print(f\"L2 RMSE lib: TRAIN:{rmse_ridge_train:.2f} TEST:{rmse_ridge_test:.2f}\")"
   ]
  },
  {
   "cell_type": "code",
   "execution_count": 289,
   "metadata": {},
   "outputs": [
    {
     "name": "stdout",
     "output_type": "stream",
     "text": [
      "L2 R2 my : TRAIN:0.00556 TEST:0.02408\n",
      "L2 R2 lib: TRAIN:0.00557 TEST:0.02403\n"
     ]
    }
   ],
   "source": [
    "print(f\"L2 R2 my : TRAIN:{r2_l2_train:.5f} TEST:{r2_l2_test:.5f}\")\n",
    "print(f\"L2 R2 lib: TRAIN:{r2_ridge_train:.5f} TEST:{r2_ridge_test:.5f}\")"
   ]
  },
  {
   "cell_type": "markdown",
   "metadata": {},
   "source": [
    "### Lasso"
   ]
  },
  {
   "cell_type": "code",
   "execution_count": 290,
   "metadata": {},
   "outputs": [
    {
     "name": "stdout",
     "output_type": "stream",
     "text": [
      "L1 MAE my : TRAIN:1179.05 TEST:1092.32\n",
      "L1 MAE lib: TRAIN:1189.08 TEST:1101.78\n"
     ]
    }
   ],
   "source": [
    "print(f\"L1 MAE my : TRAIN:{mae_l1_train:.2f} TEST:{mae_l1_test:.2f}\")\n",
    "print(f\"L1 MAE lib: TRAIN:{mae_lasso_train:.2f} TEST:{mae_lasso_test:.2f}\")\n"
   ]
  },
  {
   "cell_type": "code",
   "execution_count": 291,
   "metadata": {},
   "outputs": [
    {
     "name": "stdout",
     "output_type": "stream",
     "text": [
      "L1 RMSE my : TRAIN:23984.46 TEST:10859.54\n",
      "L1 RMSE lib: TRAIN:23984.30 TEST:10860.04\n"
     ]
    }
   ],
   "source": [
    "print(f\"L1 RMSE my : TRAIN:{rmse_l1_train:.2f} TEST:{rmse_l1_test:.2f}\")\n",
    "print(f\"L1 RMSE lib: TRAIN:{rmse_lasso_train:.2f} TEST:{rmse_lasso_test:.2f}\")"
   ]
  },
  {
   "cell_type": "code",
   "execution_count": 292,
   "metadata": {},
   "outputs": [
    {
     "name": "stdout",
     "output_type": "stream",
     "text": [
      "L1 R2 my : TRAIN:0.00555 TEST:0.02415\n",
      "L1 R2 lib: TRAIN:0.00557 TEST:0.02407\n"
     ]
    }
   ],
   "source": [
    "print(f\"L1 R2 my : TRAIN:{r2_l1_train:.5f} TEST:{r2_l1_test:.5f}\")\n",
    "print(f\"L1 R2 lib: TRAIN:{r2_lasso_train:.5f} TEST:{r2_lasso_test:.5f}\")"
   ]
  },
  {
   "cell_type": "markdown",
   "metadata": {},
   "source": [
    "### Elastic Net"
   ]
  },
  {
   "cell_type": "code",
   "execution_count": 293,
   "metadata": {},
   "outputs": [
    {
     "name": "stdout",
     "output_type": "stream",
     "text": [
      "ElasticNet MAE my : TRAIN:1094.58 TEST:1006.41\n",
      "ElasticNet MAE lib: TRAIN:1142.44 TEST:1056.60\n"
     ]
    }
   ],
   "source": [
    "print(f\"ElasticNet MAE my : TRAIN:{mae_en_my_train:.2f} TEST:{mae_en_my_test:.2f}\")\n",
    "print(f\"ElasticNet MAE lib: TRAIN:{mae_en_train:.2f} TEST:{mae_en_test:.2f}\")\n"
   ]
  },
  {
   "cell_type": "code",
   "execution_count": 294,
   "metadata": {},
   "outputs": [
    {
     "name": "stdout",
     "output_type": "stream",
     "text": [
      "ElasticNet RMSE my : TRAIN:23994.16 TEST:10875.32\n",
      "ElasticNet RMSE lib: TRAIN:24003.12 TEST:10895.25\n"
     ]
    }
   ],
   "source": [
    "print(f\"ElasticNet RMSE my : TRAIN:{rmse_en_my_train:.2f} TEST:{rmse_en_my_test:.2f}\")\n",
    "print(f\"ElasticNet RMSE lib: TRAIN:{rmse_en_train:.2f} TEST:{rmse_en_test:.2f}\")"
   ]
  },
  {
   "cell_type": "code",
   "execution_count": 295,
   "metadata": {},
   "outputs": [
    {
     "name": "stdout",
     "output_type": "stream",
     "text": [
      "ElasticNet R2 my : TRAIN:0.00479 TEST:0.02130\n",
      "ElasticNet R2 lib: TRAIN:0.00400 TEST:0.01771\n"
     ]
    }
   ],
   "source": [
    "print(f\"ElasticNet R2 my : TRAIN:{r2_en_my_train:.5f} TEST:{r2_en_my_test:.5f}\")\n",
    "print(f\"ElasticNet R2 lib: TRAIN:{r2_en_train:.5f} TEST:{r2_en_test:.5f}\")"
   ]
  },
  {
   "cell_type": "markdown",
   "metadata": {},
   "source": [
    "разница незначительна"
   ]
  },
  {
   "cell_type": "markdown",
   "metadata": {},
   "source": [
    "## 5.5 Save metrics as in the previous lesson in a table with columns model, train, test for MAE table, RMSE table and R2 coefficient."
   ]
  },
  {
   "cell_type": "code",
   "execution_count": 296,
   "metadata": {},
   "outputs": [],
   "source": [
    "result_MAE.loc[len(result_MAE)] = ['ridge_default', mae_l2_train, mae_l2_test]\n",
    "result_RMSE.loc[len(result_RMSE)] = ['ridge_default', rmse_l2_train, rmse_l2_test]\n",
    "result_R2.loc[len(result_R2)] = ['ridge_default', r2_l2_train, r2_l2_test]"
   ]
  },
  {
   "cell_type": "code",
   "execution_count": 297,
   "metadata": {},
   "outputs": [],
   "source": [
    "result_MAE.loc[len(result_MAE)] = ['lasso_default', mae_l1_train, mae_l1_test]\n",
    "result_RMSE.loc[len(result_RMSE)] = ['lasso_default', rmse_l1_train, rmse_l1_test]\n",
    "result_R2.loc[len(result_R2)] = ['lasso_default', r2_l1_train, r2_l1_test]"
   ]
  },
  {
   "cell_type": "code",
   "execution_count": 298,
   "metadata": {},
   "outputs": [],
   "source": [
    "result_MAE.loc[len(result_MAE)] = ['elasticnet_default', mae_en_my_train, mae_en_my_test]\n",
    "result_RMSE.loc[len(result_RMSE)] = ['elasticnet_default', rmse_en_my_train, rmse_en_my_test]\n",
    "result_R2.loc[len(result_R2)] = ['elasticnet_default', r2_en_my_train, r2_en_my_test]"
   ]
  },
  {
   "cell_type": "markdown",
   "metadata": {},
   "source": [
    "# 6. Feature normalization"
   ]
  },
  {
   "cell_type": "markdown",
   "metadata": {},
   "source": [
    "## 6.1 First of all, please write several examples why and where features normalization is mandatory and vice versa."
   ]
  },
  {
   "cell_type": "markdown",
   "metadata": {},
   "source": [
    "```Когда нормализация признаков обязательна:```  \n",
    "1. Когда признаки имеют разные масштабы: Например, если у вас есть признак, измеряемый в миллиметрах, и другой признак, измеряемый в килметрахх, то без нормализации признаков модель может неправильно интерпретировать важность этих признаков из-за их разных масштабов.\n",
    "2. В алгоритмах, чувствительных к масштабу: Некоторые алгоритмы, такие как k-ближайших соседей (k-NN) и линейная регрессия, могут значительно снизить свою точность, если признаки имеют разные масштабы. Нормализация признаков помогает этим алгоритмам работать более эффективно  \n",
    "3. При использовании градиентного спуска: В контексте обучения с учителем, таких как логистическая регрессия или нейронные сети, нормализация признаков может ускорить сходимость алгоритма обучения, поскольку градиентный спуск может быстрее сходиться к оптимальному решению.  \n",
    "\n",
    "```Когда нормализация признаков может быть не нужна:```  \n",
    "1. Когда признаки уже находятся в одинаковом масштабе: Если все признаки уже находятся в одном и том же масштабе, то дополнительная нормализация может быть не нужна и даже может привести к потере важной инфорции.  \n",
    "2. В задачах, где масштаб признаков не влияет на результат: В некоторых типах задач, таких как классификация с использованием деревьев решений, масштаб признаков может не иметь значительного влияния на результат. Деревья решений могут автоматически учитывать важность признаков без необходимости их нормалации  "
   ]
  },
  {
   "cell_type": "markdown",
   "metadata": {},
   "source": [
    "## 6.2 Here let's consider the first of classical normalization methods - MinMaxScaler. Please write a mathematical formula for the method."
   ]
  },
  {
   "cell_type": "markdown",
   "metadata": {},
   "source": [
    "$$\n",
    "X_{scaled} = a + \\frac{{(X - X_{min})(b-a)}}{X_{max} - X_{min}}\n",
    "$$\n",
    "$$ X_{max} - макс.признака $$ \n",
    "$$ X_{min} - мин.признака $$\n",
    "$$ [a,b] - новый \\ диапазон \\ значений $$"
   ]
  },
  {
   "cell_type": "markdown",
   "metadata": {},
   "source": [
    "## 6.3 Implement your own function for MinMaxScaler feature normalization"
   ]
  },
  {
   "cell_type": "code",
   "execution_count": 299,
   "metadata": {},
   "outputs": [],
   "source": [
    "def MyMinMaxScaler(X, a=0, b=1):\n",
    "    X_scaled = X.copy()\n",
    "    for column in X.columns:\n",
    "        X_scaled[column] = a + (X[column] - X[column].min())*(b - a) / (X[column].max() - X[column].min())\n",
    "    return X_scaled.to_numpy()"
   ]
  },
  {
   "cell_type": "markdown",
   "metadata": {},
   "source": [
    "## 6.4 Initialize MinMaxScaler() from sklearn.preprocessing."
   ]
  },
  {
   "cell_type": "code",
   "execution_count": 300,
   "metadata": {},
   "outputs": [],
   "source": [
    "from sklearn.preprocessing import MinMaxScaler\n",
    "\n",
    "minmax = MinMaxScaler()\n"
   ]
  },
  {
   "cell_type": "markdown",
   "metadata": {},
   "source": [
    "## 6.4 Compare feature normalization with your own method and from sklearn."
   ]
  },
  {
   "cell_type": "code",
   "execution_count": 301,
   "metadata": {},
   "outputs": [
    {
     "data": {
      "text/plain": [
       "array([[0.15384615, 0.125     , 0.5       , ..., 0.        , 0.        ,\n",
       "        0.        ],\n",
       "       [0.15384615, 0.        , 0.5       , ..., 0.        , 0.        ,\n",
       "        0.        ],\n",
       "       [0.15384615, 0.        , 0.5       , ..., 0.        , 0.        ,\n",
       "        0.        ],\n",
       "       ...,\n",
       "       [0.15384615, 0.        , 0.5       , ..., 0.        , 0.        ,\n",
       "        0.        ],\n",
       "       [0.15384615, 0.        , 1.        , ..., 0.        , 0.        ,\n",
       "        0.        ],\n",
       "       [0.30769231, 0.375     , 0.5       , ..., 0.        , 1.        ,\n",
       "        0.        ]])"
      ]
     },
     "execution_count": 301,
     "metadata": {},
     "output_type": "execute_result"
    }
   ],
   "source": [
    "MyMinMaxScaler(X_train)"
   ]
  },
  {
   "cell_type": "code",
   "execution_count": 302,
   "metadata": {},
   "outputs": [
    {
     "data": {
      "text/plain": [
       "array([[0.15384615, 0.125     , 0.5       , ..., 0.        , 0.        ,\n",
       "        0.        ],\n",
       "       [0.15384615, 0.        , 0.5       , ..., 0.        , 0.        ,\n",
       "        0.        ],\n",
       "       [0.15384615, 0.        , 0.5       , ..., 0.        , 0.        ,\n",
       "        0.        ],\n",
       "       ...,\n",
       "       [0.15384615, 0.        , 0.5       , ..., 0.        , 0.        ,\n",
       "        0.        ],\n",
       "       [0.15384615, 0.        , 1.        , ..., 0.        , 0.        ,\n",
       "        0.        ],\n",
       "       [0.30769231, 0.375     , 0.5       , ..., 0.        , 1.        ,\n",
       "        0.        ]])"
      ]
     },
     "execution_count": 302,
     "metadata": {},
     "output_type": "execute_result"
    }
   ],
   "source": [
    "minmax.fit_transform(X_train)"
   ]
  },
  {
   "cell_type": "code",
   "execution_count": 303,
   "metadata": {},
   "outputs": [
    {
     "data": {
      "text/plain": [
       "6.724452637579508e-21"
      ]
     },
     "execution_count": 303,
     "metadata": {},
     "output_type": "execute_result"
    }
   ],
   "source": [
    "mean_absolute_error(MyMinMaxScaler(X_train), minmax.fit_transform(X_train))"
   ]
  },
  {
   "cell_type": "markdown",
   "metadata": {},
   "source": [
    "## 6.5 Repeat steps from b to e for one more normalization method StandardScaler."
   ]
  },
  {
   "cell_type": "markdown",
   "metadata": {},
   "source": [
    "$$\n",
    "x_{scaled} = \\frac{x - \\mu}{\\sigma}\n",
    "$$\n",
    "Где:\n",
    "$$ \\mu - среднее \\ арифметическое \\ признака $$\n",
    "$$ \\sigma - среднеквадратическое(стандартное) \\ отклонение $$"
   ]
  },
  {
   "cell_type": "code",
   "execution_count": 304,
   "metadata": {},
   "outputs": [],
   "source": [
    "def MyStandartScaler(X):\n",
    "    X_scaled = X.copy()\n",
    "    for column in X.columns:\n",
    "        X_scaled[column] =(X[column] - X[column].mean())/X[column].std()\n",
    "    return X_scaled.to_numpy()"
   ]
  },
  {
   "cell_type": "code",
   "execution_count": 305,
   "metadata": {},
   "outputs": [],
   "source": [
    "from sklearn.preprocessing import StandardScaler\n",
    "\n",
    "stdscl = StandardScaler()"
   ]
  },
  {
   "cell_type": "code",
   "execution_count": 306,
   "metadata": {},
   "outputs": [
    {
     "data": {
      "text/plain": [
       "array([[-0.42386827, -0.48840193, -0.28367682, ..., -0.23486314,\n",
       "        -0.23396127, -0.2193851 ],\n",
       "       [-0.42386827, -1.38301994, -0.28367682, ..., -0.23486314,\n",
       "        -0.23396127, -0.2193851 ],\n",
       "       [-0.42386827, -1.38301994, -0.28367682, ..., -0.23486314,\n",
       "        -0.23396127, -0.2193851 ],\n",
       "       ...,\n",
       "       [-0.42386827, -1.38301994, -0.28367682, ..., -0.23486314,\n",
       "        -0.23396127, -0.2193851 ],\n",
       "       [-0.42386827, -1.38301994,  1.60086711, ..., -0.23486314,\n",
       "        -0.23396127, -0.2193851 ],\n",
       "       [ 1.57395222,  1.30083409, -0.28367682, ..., -0.23486314,\n",
       "         4.27410352, -0.2193851 ]])"
      ]
     },
     "execution_count": 306,
     "metadata": {},
     "output_type": "execute_result"
    }
   ],
   "source": [
    "MyStandartScaler(X_train)"
   ]
  },
  {
   "cell_type": "code",
   "execution_count": 307,
   "metadata": {},
   "outputs": [
    {
     "data": {
      "text/plain": [
       "array([[-0.42387364, -0.48840812, -0.28368041, ..., -0.23486612,\n",
       "        -0.23396423, -0.21938787],\n",
       "       [-0.42387364, -1.38303746, -0.28368041, ..., -0.23486612,\n",
       "        -0.23396423, -0.21938787],\n",
       "       [-0.42387364, -1.38303746, -0.28368041, ..., -0.23486612,\n",
       "        -0.23396423, -0.21938787],\n",
       "       ...,\n",
       "       [-0.42387364, -1.38303746, -0.28368041, ..., -0.23486612,\n",
       "        -0.23396423, -0.21938787],\n",
       "       [-0.42387364, -1.38303746,  1.60088738, ..., -0.23486612,\n",
       "        -0.23396423, -0.21938787],\n",
       "       [ 1.57397215,  1.30085057, -0.28368041, ..., -0.23486612,\n",
       "         4.27415765, -0.21938787]])"
      ]
     },
     "execution_count": 307,
     "metadata": {},
     "output_type": "execute_result"
    }
   ],
   "source": [
    "stdscl.fit_transform(X_train)"
   ]
  },
  {
   "cell_type": "code",
   "execution_count": 308,
   "metadata": {},
   "outputs": [
    {
     "data": {
      "text/plain": [
       "9.516511820300382e-06"
      ]
     },
     "execution_count": 308,
     "metadata": {},
     "output_type": "execute_result"
    }
   ],
   "source": [
    "mean_absolute_error(stdscl.fit_transform(X_train), MyStandartScaler(X_train))"
   ]
  },
  {
   "cell_type": "markdown",
   "metadata": {},
   "source": [
    "# 7. Fit models with normalization"
   ]
  },
  {
   "cell_type": "markdown",
   "metadata": {},
   "source": [
    "## 7.1 Fit all models - Linear regression, Ridge, Lasso and ElasticNet with MinMaxScaler."
   ]
  },
  {
   "cell_type": "code",
   "execution_count": 309,
   "metadata": {},
   "outputs": [],
   "source": [
    "mm_tr = MyMinMaxScaler(X_train)\n",
    "mm_ts = MyMinMaxScaler(X_test)"
   ]
  },
  {
   "cell_type": "code",
   "execution_count": 310,
   "metadata": {},
   "outputs": [],
   "source": [
    "lr_mm = MyLinearRegression()\n",
    "lr_mm.fit(mm_tr, Y_train.to_numpy())"
   ]
  },
  {
   "cell_type": "code",
   "execution_count": 311,
   "metadata": {},
   "outputs": [],
   "source": [
    "l2_mm = MyL2()\n",
    "l2_mm.fit(mm_tr, Y_train)"
   ]
  },
  {
   "cell_type": "code",
   "execution_count": 312,
   "metadata": {},
   "outputs": [],
   "source": [
    "l1_mm = MyL1()\n",
    "l1_mm.fit(mm_tr, Y_train)"
   ]
  },
  {
   "cell_type": "code",
   "execution_count": 313,
   "metadata": {},
   "outputs": [],
   "source": [
    "en_mm = MyElasticNet()\n",
    "en_mm.fit(mm_tr, Y_train)"
   ]
  },
  {
   "cell_type": "markdown",
   "metadata": {},
   "source": [
    "## 7.2 Fit all models - Linear regression, Ridge, Lasso and ElasticNet with StandardScaler."
   ]
  },
  {
   "cell_type": "code",
   "execution_count": 314,
   "metadata": {},
   "outputs": [],
   "source": [
    "ss_tr = MyStandartScaler(X_train)\n",
    "ss_ts = MyStandartScaler(X_test)"
   ]
  },
  {
   "cell_type": "code",
   "execution_count": 315,
   "metadata": {},
   "outputs": [],
   "source": [
    "stds = StandardScaler()\n",
    "s_tr = stds.fit_transform(X_train)\n",
    "s_ts = stds.fit_transform(X_test)"
   ]
  },
  {
   "cell_type": "code",
   "execution_count": 316,
   "metadata": {},
   "outputs": [],
   "source": [
    "lr_ss = MyLinearRegression()\n",
    "lr_ss.fit(ss_tr, Y_train.to_numpy())"
   ]
  },
  {
   "cell_type": "code",
   "execution_count": 317,
   "metadata": {},
   "outputs": [
    {
     "data": {
      "text/plain": [
       "array([[-1646.94196648],\n",
       "       [-1374.51847521],\n",
       "       [  198.05932313],\n",
       "       ...,\n",
       "       [-1963.33037731],\n",
       "       [-1752.86954559],\n",
       "       [ 3635.51775686]])"
      ]
     },
     "execution_count": 317,
     "metadata": {},
     "output_type": "execute_result"
    }
   ],
   "source": [
    "lr_ss.predict(ss_tr)"
   ]
  },
  {
   "cell_type": "code",
   "execution_count": 318,
   "metadata": {},
   "outputs": [],
   "source": [
    "l2_ss = MyL2()\n",
    "l2_ss.fit(ss_tr, Y_train)"
   ]
  },
  {
   "cell_type": "code",
   "execution_count": 319,
   "metadata": {},
   "outputs": [],
   "source": [
    "l1_ss = MyL1()\n",
    "l1_ss.fit(ss_tr, Y_train)"
   ]
  },
  {
   "cell_type": "code",
   "execution_count": 320,
   "metadata": {},
   "outputs": [],
   "source": [
    "en_ss = MyElasticNet()\n",
    "en_ss.fit(ss_tr, Y_train)"
   ]
  },
  {
   "cell_type": "markdown",
   "metadata": {},
   "source": [
    "## 7.3 Add all results to our dataframe with metrics on samples."
   ]
  },
  {
   "cell_type": "markdown",
   "metadata": {},
   "source": [
    "MinMax"
   ]
  },
  {
   "cell_type": "code",
   "execution_count": 321,
   "metadata": {},
   "outputs": [
    {
     "name": "stderr",
     "output_type": "stream",
     "text": [
      "/var/folders/zz/zyxvpxvq6csfxvn_n003whnr00z45f/T/ipykernel_14532/2417243689.py:4: FutureWarning: Series.__getitem__ treating keys as positions is deprecated. In a future version, integer keys will always be treated as labels (consistent with DataFrame behavior). To access a value by position, use `ser.iloc[pos]`\n",
      "  return (1 - (rss / tss)[0])\n"
     ]
    }
   ],
   "source": [
    "result_MAE.loc[len(result_MAE)] = ['linreg_minmax', \n",
    "    mean_absolute_error(Y_train, lr_mm.predict(mm_tr)), \n",
    "    mean_absolute_error(Y_test, lr_mm.predict(mm_ts))]\n",
    "result_RMSE.loc[len(result_RMSE)] = ['linreg_minmax', \n",
    "    np.sqrt(mean_squared_error(Y_train, lr_mm.predict(mm_tr))), \n",
    "    np.sqrt(mean_squared_error(Y_test, lr_mm.predict(mm_ts)))]\n",
    "result_R2.loc[len(result_R2)] = ['linreg_minmax', \n",
    "    r_squared(Y_train, lr_mm.predict(mm_tr)), \n",
    "    r_squared(Y_test, lr_mm.predict(mm_ts))]"
   ]
  },
  {
   "cell_type": "code",
   "execution_count": 322,
   "metadata": {},
   "outputs": [
    {
     "name": "stderr",
     "output_type": "stream",
     "text": [
      "/var/folders/zz/zyxvpxvq6csfxvn_n003whnr00z45f/T/ipykernel_14532/2417243689.py:4: FutureWarning: Series.__getitem__ treating keys as positions is deprecated. In a future version, integer keys will always be treated as labels (consistent with DataFrame behavior). To access a value by position, use `ser.iloc[pos]`\n",
      "  return (1 - (rss / tss)[0])\n"
     ]
    }
   ],
   "source": [
    "result_MAE.loc[len(result_MAE)] = ['ridge_minmax', \n",
    "    mean_absolute_error(Y_train, l2_mm.predict(mm_tr)), \n",
    "    mean_absolute_error(Y_test, l2_mm.predict(mm_ts))]\n",
    "result_RMSE.loc[len(result_RMSE)] = ['ridge_minmax', \n",
    "    np.sqrt(mean_squared_error(Y_train, l2_mm.predict(mm_tr))), \n",
    "    np.sqrt(mean_squared_error(Y_test, l2_mm.predict(mm_ts)))]\n",
    "result_R2.loc[len(result_R2)] = ['ridge_minmax', \n",
    "    r_squared(Y_train, l2_mm.predict(mm_tr)), \n",
    "    r_squared(Y_test, l2_mm.predict(mm_ts))]"
   ]
  },
  {
   "cell_type": "code",
   "execution_count": 323,
   "metadata": {},
   "outputs": [
    {
     "name": "stderr",
     "output_type": "stream",
     "text": [
      "/var/folders/zz/zyxvpxvq6csfxvn_n003whnr00z45f/T/ipykernel_14532/2417243689.py:4: FutureWarning: Series.__getitem__ treating keys as positions is deprecated. In a future version, integer keys will always be treated as labels (consistent with DataFrame behavior). To access a value by position, use `ser.iloc[pos]`\n",
      "  return (1 - (rss / tss)[0])\n"
     ]
    }
   ],
   "source": [
    "result_MAE.loc[len(result_MAE)] = ['lasso_minmax', \n",
    "    mean_absolute_error(Y_train, l1_mm.predict(mm_tr)), \n",
    "    mean_absolute_error(Y_test, l1_mm.predict(mm_ts))]\n",
    "result_RMSE.loc[len(result_RMSE)] = ['lasso_minmax', \n",
    "    np.sqrt(mean_squared_error(Y_train, l1_mm.predict(mm_tr))), \n",
    "    np.sqrt(mean_squared_error(Y_test, l1_mm.predict(mm_ts)))]\n",
    "result_R2.loc[len(result_R2)] = ['lasso_minmax', \n",
    "    r_squared(Y_train, l1_mm.predict(mm_tr)), \n",
    "    r_squared(Y_test, l1_mm.predict(mm_ts))]"
   ]
  },
  {
   "cell_type": "code",
   "execution_count": 324,
   "metadata": {},
   "outputs": [
    {
     "name": "stderr",
     "output_type": "stream",
     "text": [
      "/var/folders/zz/zyxvpxvq6csfxvn_n003whnr00z45f/T/ipykernel_14532/2417243689.py:4: FutureWarning: Series.__getitem__ treating keys as positions is deprecated. In a future version, integer keys will always be treated as labels (consistent with DataFrame behavior). To access a value by position, use `ser.iloc[pos]`\n",
      "  return (1 - (rss / tss)[0])\n"
     ]
    }
   ],
   "source": [
    "result_MAE.loc[len(result_MAE)] = ['elasticnet_minmax', \n",
    "    mean_absolute_error(Y_train, en_mm.predict(mm_tr)), \n",
    "    mean_absolute_error(Y_test, en_mm.predict(mm_ts))]\n",
    "result_RMSE.loc[len(result_RMSE)] = ['elasticnet_minmax', \n",
    "    np.sqrt(mean_squared_error(Y_train, en_mm.predict(mm_tr))), \n",
    "    np.sqrt(mean_squared_error(Y_test, en_mm.predict(mm_ts)))]\n",
    "result_R2.loc[len(result_R2)] = ['elasticnet_minmax', \n",
    "    r_squared(Y_train, en_mm.predict(mm_tr)), \n",
    "    r_squared(Y_test, en_mm.predict(mm_ts))]"
   ]
  },
  {
   "cell_type": "markdown",
   "metadata": {},
   "source": [
    "StandartScaler"
   ]
  },
  {
   "cell_type": "code",
   "execution_count": 325,
   "metadata": {},
   "outputs": [
    {
     "name": "stderr",
     "output_type": "stream",
     "text": [
      "/var/folders/zz/zyxvpxvq6csfxvn_n003whnr00z45f/T/ipykernel_14532/2417243689.py:4: FutureWarning: Series.__getitem__ treating keys as positions is deprecated. In a future version, integer keys will always be treated as labels (consistent with DataFrame behavior). To access a value by position, use `ser.iloc[pos]`\n",
      "  return (1 - (rss / tss)[0])\n"
     ]
    }
   ],
   "source": [
    "result_MAE.loc[len(result_MAE)] = ['linreg_std_scaler', \n",
    "    mean_absolute_error(Y_train, lr_ss.predict(ss_tr)), \n",
    "    mean_absolute_error(Y_test, lr_ss.predict(ss_ts))]\n",
    "result_RMSE.loc[len(result_RMSE)] = ['linreg_std_scaler', \n",
    "    np.sqrt(mean_squared_error(Y_train, lr_ss.predict(ss_tr))), \n",
    "    np.sqrt(mean_squared_error(Y_test, lr_ss.predict(ss_ts)))]\n",
    "result_R2.loc[len(result_R2)] = ['linreg_std_scaler', \n",
    "    r_squared(Y_train, lr_ss.predict(ss_tr)), \n",
    "    r_squared(Y_test, lr_ss.predict(ss_ts))]"
   ]
  },
  {
   "cell_type": "code",
   "execution_count": 326,
   "metadata": {},
   "outputs": [
    {
     "name": "stderr",
     "output_type": "stream",
     "text": [
      "/var/folders/zz/zyxvpxvq6csfxvn_n003whnr00z45f/T/ipykernel_14532/2417243689.py:4: FutureWarning: Series.__getitem__ treating keys as positions is deprecated. In a future version, integer keys will always be treated as labels (consistent with DataFrame behavior). To access a value by position, use `ser.iloc[pos]`\n",
      "  return (1 - (rss / tss)[0])\n"
     ]
    }
   ],
   "source": [
    "result_MAE.loc[len(result_MAE)] = ['ridge_std_scaler', \n",
    "    mean_absolute_error(Y_train, l2_ss.predict(ss_tr)), \n",
    "    mean_absolute_error(Y_test, l2_ss.predict(ss_ts))]\n",
    "result_RMSE.loc[len(result_RMSE)] = ['ridge_std_scaler', \n",
    "    np.sqrt(mean_squared_error(Y_train, l2_ss.predict(ss_tr))), \n",
    "    np.sqrt(mean_squared_error(Y_test, l2_ss.predict(ss_ts)))]\n",
    "result_R2.loc[len(result_R2)] = ['ridge_std_scaler', \n",
    "    r_squared(Y_train, l2_ss.predict(ss_tr)), \n",
    "    r_squared(Y_test, l2_ss.predict(ss_ts))]"
   ]
  },
  {
   "cell_type": "code",
   "execution_count": 327,
   "metadata": {},
   "outputs": [
    {
     "name": "stderr",
     "output_type": "stream",
     "text": [
      "/var/folders/zz/zyxvpxvq6csfxvn_n003whnr00z45f/T/ipykernel_14532/2417243689.py:4: FutureWarning: Series.__getitem__ treating keys as positions is deprecated. In a future version, integer keys will always be treated as labels (consistent with DataFrame behavior). To access a value by position, use `ser.iloc[pos]`\n",
      "  return (1 - (rss / tss)[0])\n"
     ]
    }
   ],
   "source": [
    "result_MAE.loc[len(result_MAE)] = ['lasso_std_scaler', \n",
    "    mean_absolute_error(Y_train, l1_ss.predict(ss_tr)), \n",
    "    mean_absolute_error(Y_test, l1_ss.predict(ss_ts))]\n",
    "result_RMSE.loc[len(result_RMSE)] = ['lasso_std_scaler', \n",
    "    np.sqrt(mean_squared_error(Y_train, l1_ss.predict(ss_tr))), \n",
    "    np.sqrt(mean_squared_error(Y_test, l1_ss.predict(ss_ts)))]\n",
    "result_R2.loc[len(result_R2)] = ['lasso_std_scaler', \n",
    "    r_squared(Y_train, l1_ss.predict(ss_tr)), \n",
    "    r_squared(Y_test, l1_ss.predict(ss_ts))]"
   ]
  },
  {
   "cell_type": "code",
   "execution_count": 328,
   "metadata": {},
   "outputs": [
    {
     "name": "stderr",
     "output_type": "stream",
     "text": [
      "/var/folders/zz/zyxvpxvq6csfxvn_n003whnr00z45f/T/ipykernel_14532/2417243689.py:4: FutureWarning: Series.__getitem__ treating keys as positions is deprecated. In a future version, integer keys will always be treated as labels (consistent with DataFrame behavior). To access a value by position, use `ser.iloc[pos]`\n",
      "  return (1 - (rss / tss)[0])\n"
     ]
    }
   ],
   "source": [
    "result_MAE.loc[len(result_MAE)] = ['elasticnet_std_scaler', \n",
    "    mean_absolute_error(Y_train, en_ss.predict(ss_tr)), \n",
    "    mean_absolute_error(Y_test, en_ss.predict(ss_ts))]\n",
    "result_RMSE.loc[len(result_RMSE)] = ['elasticnet_std_scaler', \n",
    "    np.sqrt(mean_squared_error(Y_train, en_ss.predict(ss_tr))), \n",
    "    np.sqrt(mean_squared_error(Y_test, en_ss.predict(ss_ts)))]\n",
    "result_R2.loc[len(result_R2)] = ['elasticnet_std_scaler', \n",
    "    r_squared(Y_train, en_ss.predict(ss_tr)), \n",
    "    r_squared(Y_test, en_ss.predict(ss_ts))]"
   ]
  },
  {
   "cell_type": "markdown",
   "metadata": {},
   "source": [
    "# 8. Overfit models"
   ]
  },
  {
   "cell_type": "markdown",
   "metadata": {},
   "source": [
    "## 8.1 Let's consider an overfitted model in practice. After theory, you know that polynomial regression is easy to overfit. So let's create toy example and see how regularization works in real life."
   ]
  },
  {
   "cell_type": "markdown",
   "metadata": {},
   "source": [
    "## 8.2 In the last lesson we created polynomial features with degree equals 10. Here repeat these steps from the previous lesson, remember, with only 3 basic features - 'bathrooms’, 'bedrooms’, ‘'interest_level'."
   ]
  },
  {
   "cell_type": "markdown",
   "metadata": {},
   "source": [
    "## 8.3 And train and fit all our implemented algorithms - Linear regression, Ridge, Lasso and ElasticNet on a set of polynomial features."
   ]
  },
  {
   "cell_type": "code",
   "execution_count": 329,
   "metadata": {},
   "outputs": [
    {
     "data": {
      "text/html": [
       "<div>\n",
       "<style scoped>\n",
       "    .dataframe tbody tr th:only-of-type {\n",
       "        vertical-align: middle;\n",
       "    }\n",
       "\n",
       "    .dataframe tbody tr th {\n",
       "        vertical-align: top;\n",
       "    }\n",
       "\n",
       "    .dataframe thead th {\n",
       "        text-align: right;\n",
       "    }\n",
       "</style>\n",
       "<table border=\"1\" class=\"dataframe\">\n",
       "  <thead>\n",
       "    <tr style=\"text-align: right;\">\n",
       "      <th></th>\n",
       "      <th>model</th>\n",
       "      <th>train</th>\n",
       "      <th>test</th>\n",
       "    </tr>\n",
       "  </thead>\n",
       "  <tbody>\n",
       "    <tr>\n",
       "      <th>0</th>\n",
       "      <td>linreg_default</td>\n",
       "      <td>1142.316182</td>\n",
       "      <td>1055.719475</td>\n",
       "    </tr>\n",
       "    <tr>\n",
       "      <th>1</th>\n",
       "      <td>ridge_default</td>\n",
       "      <td>1191.359802</td>\n",
       "      <td>1103.737095</td>\n",
       "    </tr>\n",
       "    <tr>\n",
       "      <th>2</th>\n",
       "      <td>lasso_default</td>\n",
       "      <td>1179.047184</td>\n",
       "      <td>1092.315885</td>\n",
       "    </tr>\n",
       "    <tr>\n",
       "      <th>3</th>\n",
       "      <td>elasticnet_default</td>\n",
       "      <td>1094.575476</td>\n",
       "      <td>1006.413052</td>\n",
       "    </tr>\n",
       "    <tr>\n",
       "      <th>4</th>\n",
       "      <td>linreg_minmax</td>\n",
       "      <td>1478.330950</td>\n",
       "      <td>1383.945672</td>\n",
       "    </tr>\n",
       "    <tr>\n",
       "      <th>5</th>\n",
       "      <td>ridge_minmax</td>\n",
       "      <td>1189.028121</td>\n",
       "      <td>1110.485224</td>\n",
       "    </tr>\n",
       "    <tr>\n",
       "      <th>6</th>\n",
       "      <td>lasso_minmax</td>\n",
       "      <td>1322.840459</td>\n",
       "      <td>1252.565611</td>\n",
       "    </tr>\n",
       "    <tr>\n",
       "      <th>7</th>\n",
       "      <td>elasticnet_minmax</td>\n",
       "      <td>1582.268167</td>\n",
       "      <td>1483.717172</td>\n",
       "    </tr>\n",
       "    <tr>\n",
       "      <th>8</th>\n",
       "      <td>linreg_std_scaler</td>\n",
       "      <td>3853.382678</td>\n",
       "      <td>3769.009081</td>\n",
       "    </tr>\n",
       "    <tr>\n",
       "      <th>9</th>\n",
       "      <td>ridge_std_scaler</td>\n",
       "      <td>3853.398033</td>\n",
       "      <td>3769.044396</td>\n",
       "    </tr>\n",
       "    <tr>\n",
       "      <th>10</th>\n",
       "      <td>lasso_std_scaler</td>\n",
       "      <td>3853.394683</td>\n",
       "      <td>3769.048484</td>\n",
       "    </tr>\n",
       "    <tr>\n",
       "      <th>11</th>\n",
       "      <td>elasticnet_std_scaler</td>\n",
       "      <td>3850.170551</td>\n",
       "      <td>3764.335325</td>\n",
       "    </tr>\n",
       "  </tbody>\n",
       "</table>\n",
       "</div>"
      ],
      "text/plain": [
       "                    model        train         test\n",
       "0          linreg_default  1142.316182  1055.719475\n",
       "1           ridge_default  1191.359802  1103.737095\n",
       "2           lasso_default  1179.047184  1092.315885\n",
       "3      elasticnet_default  1094.575476  1006.413052\n",
       "4           linreg_minmax  1478.330950  1383.945672\n",
       "5            ridge_minmax  1189.028121  1110.485224\n",
       "6            lasso_minmax  1322.840459  1252.565611\n",
       "7       elasticnet_minmax  1582.268167  1483.717172\n",
       "8       linreg_std_scaler  3853.382678  3769.009081\n",
       "9        ridge_std_scaler  3853.398033  3769.044396\n",
       "10       lasso_std_scaler  3853.394683  3769.048484\n",
       "11  elasticnet_std_scaler  3850.170551  3764.335325"
      ]
     },
     "execution_count": 329,
     "metadata": {},
     "output_type": "execute_result"
    }
   ],
   "source": [
    "result_MAE"
   ]
  },
  {
   "cell_type": "code",
   "execution_count": 330,
   "metadata": {},
   "outputs": [],
   "source": [
    "poly = PolynomialFeatures(degree=10)"
   ]
  },
  {
   "cell_type": "code",
   "execution_count": 331,
   "metadata": {},
   "outputs": [],
   "source": [
    "X_train_poly = poly.fit_transform(X_train[['bathrooms', 'bedrooms', 'interest_level']])\n",
    "X_test_poly = poly.fit_transform(X_test[['bathrooms', 'bedrooms', 'interest_level']])"
   ]
  },
  {
   "cell_type": "code",
   "execution_count": 332,
   "metadata": {},
   "outputs": [
    {
     "name": "stdout",
     "output_type": "stream",
     "text": [
      "126319498.54287638\n",
      "1882597844050823.5\n",
      "3.2685369153616364e+22\n"
     ]
    }
   ],
   "source": [
    "lr_poly = MyLinearRegression(alpha=0.0000001 ,print_eps=True)\n",
    "lr_poly.fit(X_train_poly, Y_train.to_numpy())"
   ]
  },
  {
   "cell_type": "code",
   "execution_count": 333,
   "metadata": {},
   "outputs": [
    {
     "data": {
      "text/plain": [
       "(39481, 286)"
      ]
     },
     "execution_count": 333,
     "metadata": {},
     "output_type": "execute_result"
    }
   ],
   "source": [
    "X_train_poly.shape"
   ]
  },
  {
   "cell_type": "code",
   "execution_count": 334,
   "metadata": {},
   "outputs": [
    {
     "data": {
      "text/plain": [
       "array([[5.76382204e+29],\n",
       "       [7.46762655e+27],\n",
       "       [7.46762655e+27],\n",
       "       ...,\n",
       "       [7.46762655e+27],\n",
       "       [9.59357111e+27],\n",
       "       [1.95514996e+34]])"
      ]
     },
     "execution_count": 334,
     "metadata": {},
     "output_type": "execute_result"
    }
   ],
   "source": [
    "lr_poly.predict(X_train_poly)"
   ]
  },
  {
   "cell_type": "code",
   "execution_count": 335,
   "metadata": {},
   "outputs": [],
   "source": [
    "l2_poly = MyL2()\n",
    "l2_poly.fit(X_train_poly, Y_train)"
   ]
  },
  {
   "cell_type": "code",
   "execution_count": 336,
   "metadata": {},
   "outputs": [
    {
     "data": {
      "text/plain": [
       "array([[3314.42015612],\n",
       "       [2613.53355164],\n",
       "       [2613.53355164],\n",
       "       ...,\n",
       "       [2613.53355164],\n",
       "       [2248.95533853],\n",
       "       [5733.38548122]])"
      ]
     },
     "execution_count": 336,
     "metadata": {},
     "output_type": "execute_result"
    }
   ],
   "source": [
    "l2_poly.predict(X_train_poly)"
   ]
  },
  {
   "cell_type": "code",
   "execution_count": 337,
   "metadata": {},
   "outputs": [
    {
     "name": "stdout",
     "output_type": "stream",
     "text": [
      "8402844063899.294\n",
      "4.16301554410074e+25\n",
      "2.1922912766496836e+38\n"
     ]
    }
   ],
   "source": [
    "l1_poly = MyL1(print_eps=True)\n",
    "l1_poly.fit(X_train_poly, Y_train)"
   ]
  },
  {
   "cell_type": "code",
   "execution_count": 338,
   "metadata": {},
   "outputs": [
    {
     "data": {
      "text/plain": [
       "array([[2.19229128e+38],\n",
       "       [2.85036382e+36],\n",
       "       [2.85036382e+36],\n",
       "       ...,\n",
       "       [2.85036382e+36],\n",
       "       [3.66129347e+36],\n",
       "       [7.43342803e+42]])"
      ]
     },
     "execution_count": 338,
     "metadata": {},
     "output_type": "execute_result"
    }
   ],
   "source": [
    "l1_poly.predict(X_train_poly)"
   ]
  },
  {
   "cell_type": "code",
   "execution_count": 339,
   "metadata": {},
   "outputs": [
    {
     "name": "stdout",
     "output_type": "stream",
     "text": [
      "4184883396546.573\n",
      "1.4871781985122735e+25\n",
      "7.512819854136654e+37\n"
     ]
    }
   ],
   "source": [
    "en_poly = MyElasticNet(print_eps=True)\n",
    "en_poly.fit(X_train_poly, Y_train)"
   ]
  },
  {
   "cell_type": "code",
   "execution_count": 340,
   "metadata": {},
   "outputs": [
    {
     "data": {
      "text/plain": [
       "array([[7.51281985e+37],\n",
       "       [1.00877762e+36],\n",
       "       [1.00877762e+36],\n",
       "       ...,\n",
       "       [1.00877762e+36],\n",
       "       [1.29407192e+36],\n",
       "       [2.53760605e+42]])"
      ]
     },
     "execution_count": 340,
     "metadata": {},
     "output_type": "execute_result"
    }
   ],
   "source": [
    "en_poly.predict(X_train_poly)"
   ]
  },
  {
   "cell_type": "markdown",
   "metadata": {},
   "source": [
    "## 8.4 Store results of quality metrics in the result dataframe."
   ]
  },
  {
   "cell_type": "code",
   "execution_count": 341,
   "metadata": {},
   "outputs": [
    {
     "name": "stderr",
     "output_type": "stream",
     "text": [
      "/var/folders/zz/zyxvpxvq6csfxvn_n003whnr00z45f/T/ipykernel_14532/2417243689.py:4: FutureWarning: Series.__getitem__ treating keys as positions is deprecated. In a future version, integer keys will always be treated as labels (consistent with DataFrame behavior). To access a value by position, use `ser.iloc[pos]`\n",
      "  return (1 - (rss / tss)[0])\n"
     ]
    }
   ],
   "source": [
    "result_MAE.loc[len(result_MAE)] = ['linreg_poly', \n",
    "    mean_absolute_error(Y_train, lr_poly.predict(X_train_poly)), \n",
    "    mean_absolute_error(Y_test, lr_poly.predict(X_test_poly))]\n",
    "result_RMSE.loc[len(result_RMSE)] = ['linreg_poly', \n",
    "    np.sqrt(mean_squared_error(Y_train, lr_poly.predict(X_train_poly))), \n",
    "    np.sqrt(mean_squared_error(Y_test, lr_poly.predict(X_test_poly)))]\n",
    "result_R2.loc[len(result_R2)] = ['linreg_poly', \n",
    "    r_squared(Y_train, lr_poly.predict(X_train_poly)), \n",
    "    r_squared(Y_test, lr_poly.predict(X_test_poly))]"
   ]
  },
  {
   "cell_type": "code",
   "execution_count": 342,
   "metadata": {},
   "outputs": [
    {
     "name": "stderr",
     "output_type": "stream",
     "text": [
      "/var/folders/zz/zyxvpxvq6csfxvn_n003whnr00z45f/T/ipykernel_14532/2417243689.py:4: FutureWarning: Series.__getitem__ treating keys as positions is deprecated. In a future version, integer keys will always be treated as labels (consistent with DataFrame behavior). To access a value by position, use `ser.iloc[pos]`\n",
      "  return (1 - (rss / tss)[0])\n"
     ]
    }
   ],
   "source": [
    "result_MAE.loc[len(result_MAE)] = ['ridge_poly', \n",
    "    mean_absolute_error(Y_train, l2_poly.predict(X_train_poly)), \n",
    "    mean_absolute_error(Y_test, l2_poly.predict(X_test_poly))]\n",
    "result_RMSE.loc[len(result_RMSE)] = ['ridge_poly', \n",
    "    np.sqrt(mean_squared_error(Y_train, l2_poly.predict(X_train_poly))), \n",
    "    np.sqrt(mean_squared_error(Y_test, l2_poly.predict(X_test_poly)))]\n",
    "result_R2.loc[len(result_R2)] = ['ridge_poly', \n",
    "    r_squared(Y_train, l2_poly.predict(X_train_poly)), \n",
    "    r_squared(Y_test, l2_poly.predict(X_test_poly))]"
   ]
  },
  {
   "cell_type": "code",
   "execution_count": 343,
   "metadata": {},
   "outputs": [
    {
     "name": "stderr",
     "output_type": "stream",
     "text": [
      "/var/folders/zz/zyxvpxvq6csfxvn_n003whnr00z45f/T/ipykernel_14532/2417243689.py:4: FutureWarning: Series.__getitem__ treating keys as positions is deprecated. In a future version, integer keys will always be treated as labels (consistent with DataFrame behavior). To access a value by position, use `ser.iloc[pos]`\n",
      "  return (1 - (rss / tss)[0])\n"
     ]
    }
   ],
   "source": [
    "result_MAE.loc[len(result_MAE)] = ['lasso_poly', \n",
    "    mean_absolute_error(Y_train, l1_poly.predict(X_train_poly)), \n",
    "    mean_absolute_error(Y_test, l1_poly.predict(X_test_poly))]\n",
    "result_RMSE.loc[len(result_RMSE)] = ['lasso_poly', \n",
    "    np.sqrt(mean_squared_error(Y_train, l1_poly.predict(X_train_poly))), \n",
    "    np.sqrt(mean_squared_error(Y_test, l1_poly.predict(X_test_poly)))]\n",
    "result_R2.loc[len(result_R2)] = ['lasso_poly', \n",
    "    r_squared(Y_train, l1_poly.predict(X_train_poly)), \n",
    "    r_squared(Y_test, l1_poly.predict(X_test_poly))]"
   ]
  },
  {
   "cell_type": "code",
   "execution_count": 344,
   "metadata": {},
   "outputs": [
    {
     "name": "stderr",
     "output_type": "stream",
     "text": [
      "/var/folders/zz/zyxvpxvq6csfxvn_n003whnr00z45f/T/ipykernel_14532/2417243689.py:4: FutureWarning: Series.__getitem__ treating keys as positions is deprecated. In a future version, integer keys will always be treated as labels (consistent with DataFrame behavior). To access a value by position, use `ser.iloc[pos]`\n",
      "  return (1 - (rss / tss)[0])\n"
     ]
    }
   ],
   "source": [
    "result_MAE.loc[len(result_MAE)] = ['elasticnet_poly', \n",
    "    mean_absolute_error(Y_train, en_poly.predict(X_train_poly)), \n",
    "    mean_absolute_error(Y_test, en_poly.predict(X_test_poly))]\n",
    "result_RMSE.loc[len(result_RMSE)] = ['elasticnet_poly', \n",
    "    np.sqrt(mean_squared_error(Y_train, en_poly.predict(X_train_poly))), \n",
    "    np.sqrt(mean_squared_error(Y_test, en_poly.predict(X_test_poly)))]\n",
    "result_R2.loc[len(result_R2)] = ['elasticnet_poly', \n",
    "    r_squared(Y_train, en_poly.predict(X_train_poly)), \n",
    "    r_squared(Y_test, en_poly.predict(X_test_poly))]"
   ]
  },
  {
   "cell_type": "markdown",
   "metadata": {},
   "source": [
    "## 8.5 Analyze results, and choose the best model for your opinion."
   ]
  },
  {
   "cell_type": "code",
   "execution_count": 345,
   "metadata": {},
   "outputs": [
    {
     "data": {
      "text/html": [
       "<div>\n",
       "<style scoped>\n",
       "    .dataframe tbody tr th:only-of-type {\n",
       "        vertical-align: middle;\n",
       "    }\n",
       "\n",
       "    .dataframe tbody tr th {\n",
       "        vertical-align: top;\n",
       "    }\n",
       "\n",
       "    .dataframe thead th {\n",
       "        text-align: right;\n",
       "    }\n",
       "</style>\n",
       "<table border=\"1\" class=\"dataframe\">\n",
       "  <thead>\n",
       "    <tr style=\"text-align: right;\">\n",
       "      <th></th>\n",
       "      <th>model</th>\n",
       "      <th>train</th>\n",
       "      <th>test</th>\n",
       "    </tr>\n",
       "  </thead>\n",
       "  <tbody>\n",
       "    <tr>\n",
       "      <th>0</th>\n",
       "      <td>linreg_default</td>\n",
       "      <td>1.142316e+03</td>\n",
       "      <td>1.055719e+03</td>\n",
       "    </tr>\n",
       "    <tr>\n",
       "      <th>1</th>\n",
       "      <td>ridge_default</td>\n",
       "      <td>1.191360e+03</td>\n",
       "      <td>1.103737e+03</td>\n",
       "    </tr>\n",
       "    <tr>\n",
       "      <th>2</th>\n",
       "      <td>lasso_default</td>\n",
       "      <td>1.179047e+03</td>\n",
       "      <td>1.092316e+03</td>\n",
       "    </tr>\n",
       "    <tr>\n",
       "      <th>3</th>\n",
       "      <td>elasticnet_default</td>\n",
       "      <td>1.094575e+03</td>\n",
       "      <td>1.006413e+03</td>\n",
       "    </tr>\n",
       "    <tr>\n",
       "      <th>4</th>\n",
       "      <td>linreg_minmax</td>\n",
       "      <td>1.478331e+03</td>\n",
       "      <td>1.383946e+03</td>\n",
       "    </tr>\n",
       "    <tr>\n",
       "      <th>5</th>\n",
       "      <td>ridge_minmax</td>\n",
       "      <td>1.189028e+03</td>\n",
       "      <td>1.110485e+03</td>\n",
       "    </tr>\n",
       "    <tr>\n",
       "      <th>6</th>\n",
       "      <td>lasso_minmax</td>\n",
       "      <td>1.322840e+03</td>\n",
       "      <td>1.252566e+03</td>\n",
       "    </tr>\n",
       "    <tr>\n",
       "      <th>7</th>\n",
       "      <td>elasticnet_minmax</td>\n",
       "      <td>1.582268e+03</td>\n",
       "      <td>1.483717e+03</td>\n",
       "    </tr>\n",
       "    <tr>\n",
       "      <th>8</th>\n",
       "      <td>linreg_std_scaler</td>\n",
       "      <td>3.853383e+03</td>\n",
       "      <td>3.769009e+03</td>\n",
       "    </tr>\n",
       "    <tr>\n",
       "      <th>9</th>\n",
       "      <td>ridge_std_scaler</td>\n",
       "      <td>3.853398e+03</td>\n",
       "      <td>3.769044e+03</td>\n",
       "    </tr>\n",
       "    <tr>\n",
       "      <th>10</th>\n",
       "      <td>lasso_std_scaler</td>\n",
       "      <td>3.853395e+03</td>\n",
       "      <td>3.769048e+03</td>\n",
       "    </tr>\n",
       "    <tr>\n",
       "      <th>11</th>\n",
       "      <td>elasticnet_std_scaler</td>\n",
       "      <td>3.850171e+03</td>\n",
       "      <td>3.764335e+03</td>\n",
       "    </tr>\n",
       "    <tr>\n",
       "      <th>12</th>\n",
       "      <td>linreg_poly</td>\n",
       "      <td>6.494000e+34</td>\n",
       "      <td>5.652960e+34</td>\n",
       "    </tr>\n",
       "    <tr>\n",
       "      <th>13</th>\n",
       "      <td>ridge_poly</td>\n",
       "      <td>1.153185e+03</td>\n",
       "      <td>4.196459e+06</td>\n",
       "    </tr>\n",
       "    <tr>\n",
       "      <th>14</th>\n",
       "      <td>lasso_poly</td>\n",
       "      <td>2.468970e+43</td>\n",
       "      <td>2.150360e+43</td>\n",
       "    </tr>\n",
       "    <tr>\n",
       "      <th>15</th>\n",
       "      <td>elasticnet_poly</td>\n",
       "      <td>8.427484e+42</td>\n",
       "      <td>7.376593e+42</td>\n",
       "    </tr>\n",
       "  </tbody>\n",
       "</table>\n",
       "</div>"
      ],
      "text/plain": [
       "                    model         train          test\n",
       "0          linreg_default  1.142316e+03  1.055719e+03\n",
       "1           ridge_default  1.191360e+03  1.103737e+03\n",
       "2           lasso_default  1.179047e+03  1.092316e+03\n",
       "3      elasticnet_default  1.094575e+03  1.006413e+03\n",
       "4           linreg_minmax  1.478331e+03  1.383946e+03\n",
       "5            ridge_minmax  1.189028e+03  1.110485e+03\n",
       "6            lasso_minmax  1.322840e+03  1.252566e+03\n",
       "7       elasticnet_minmax  1.582268e+03  1.483717e+03\n",
       "8       linreg_std_scaler  3.853383e+03  3.769009e+03\n",
       "9        ridge_std_scaler  3.853398e+03  3.769044e+03\n",
       "10       lasso_std_scaler  3.853395e+03  3.769048e+03\n",
       "11  elasticnet_std_scaler  3.850171e+03  3.764335e+03\n",
       "12            linreg_poly  6.494000e+34  5.652960e+34\n",
       "13             ridge_poly  1.153185e+03  4.196459e+06\n",
       "14             lasso_poly  2.468970e+43  2.150360e+43\n",
       "15        elasticnet_poly  8.427484e+42  7.376593e+42"
      ]
     },
     "execution_count": 345,
     "metadata": {},
     "output_type": "execute_result"
    }
   ],
   "source": [
    "result_MAE"
   ]
  },
  {
   "cell_type": "code",
   "execution_count": 346,
   "metadata": {},
   "outputs": [
    {
     "data": {
      "text/html": [
       "<div>\n",
       "<style scoped>\n",
       "    .dataframe tbody tr th:only-of-type {\n",
       "        vertical-align: middle;\n",
       "    }\n",
       "\n",
       "    .dataframe tbody tr th {\n",
       "        vertical-align: top;\n",
       "    }\n",
       "\n",
       "    .dataframe thead th {\n",
       "        text-align: right;\n",
       "    }\n",
       "</style>\n",
       "<table border=\"1\" class=\"dataframe\">\n",
       "  <thead>\n",
       "    <tr style=\"text-align: right;\">\n",
       "      <th></th>\n",
       "      <th>model</th>\n",
       "      <th>train</th>\n",
       "      <th>test</th>\n",
       "    </tr>\n",
       "  </thead>\n",
       "  <tbody>\n",
       "    <tr>\n",
       "      <th>0</th>\n",
       "      <td>linreg_default</td>\n",
       "      <td>2.398577e+04</td>\n",
       "      <td>1.086049e+04</td>\n",
       "    </tr>\n",
       "    <tr>\n",
       "      <th>1</th>\n",
       "      <td>ridge_default</td>\n",
       "      <td>2.398432e+04</td>\n",
       "      <td>1.085992e+04</td>\n",
       "    </tr>\n",
       "    <tr>\n",
       "      <th>2</th>\n",
       "      <td>lasso_default</td>\n",
       "      <td>2.398446e+04</td>\n",
       "      <td>1.085954e+04</td>\n",
       "    </tr>\n",
       "    <tr>\n",
       "      <th>3</th>\n",
       "      <td>elasticnet_default</td>\n",
       "      <td>2.399416e+04</td>\n",
       "      <td>1.087532e+04</td>\n",
       "    </tr>\n",
       "    <tr>\n",
       "      <th>4</th>\n",
       "      <td>linreg_minmax</td>\n",
       "      <td>2.402745e+04</td>\n",
       "      <td>1.094546e+04</td>\n",
       "    </tr>\n",
       "    <tr>\n",
       "      <th>5</th>\n",
       "      <td>ridge_minmax</td>\n",
       "      <td>2.398433e+04</td>\n",
       "      <td>1.088042e+04</td>\n",
       "    </tr>\n",
       "    <tr>\n",
       "      <th>6</th>\n",
       "      <td>lasso_minmax</td>\n",
       "      <td>2.400372e+04</td>\n",
       "      <td>1.090476e+04</td>\n",
       "    </tr>\n",
       "    <tr>\n",
       "      <th>7</th>\n",
       "      <td>elasticnet_minmax</td>\n",
       "      <td>2.405321e+04</td>\n",
       "      <td>1.099301e+04</td>\n",
       "    </tr>\n",
       "    <tr>\n",
       "      <th>8</th>\n",
       "      <td>linreg_std_scaler</td>\n",
       "      <td>2.429099e+04</td>\n",
       "      <td>1.149233e+04</td>\n",
       "    </tr>\n",
       "    <tr>\n",
       "      <th>9</th>\n",
       "      <td>ridge_std_scaler</td>\n",
       "      <td>2.429097e+04</td>\n",
       "      <td>1.149249e+04</td>\n",
       "    </tr>\n",
       "    <tr>\n",
       "      <th>10</th>\n",
       "      <td>lasso_std_scaler</td>\n",
       "      <td>2.429097e+04</td>\n",
       "      <td>1.149250e+04</td>\n",
       "    </tr>\n",
       "    <tr>\n",
       "      <th>11</th>\n",
       "      <td>elasticnet_std_scaler</td>\n",
       "      <td>2.429317e+04</td>\n",
       "      <td>1.149378e+04</td>\n",
       "    </tr>\n",
       "    <tr>\n",
       "      <th>12</th>\n",
       "      <td>linreg_poly</td>\n",
       "      <td>2.225628e+36</td>\n",
       "      <td>9.765079e+35</td>\n",
       "    </tr>\n",
       "    <tr>\n",
       "      <th>13</th>\n",
       "      <td>ridge_poly</td>\n",
       "      <td>2.438598e+04</td>\n",
       "      <td>4.167600e+08</td>\n",
       "    </tr>\n",
       "    <tr>\n",
       "      <th>14</th>\n",
       "      <td>lasso_poly</td>\n",
       "      <td>8.461263e+44</td>\n",
       "      <td>3.720154e+44</td>\n",
       "    </tr>\n",
       "    <tr>\n",
       "      <th>15</th>\n",
       "      <td>elasticnet_poly</td>\n",
       "      <td>2.886840e+44</td>\n",
       "      <td>1.294134e+44</td>\n",
       "    </tr>\n",
       "  </tbody>\n",
       "</table>\n",
       "</div>"
      ],
      "text/plain": [
       "                    model         train          test\n",
       "0          linreg_default  2.398577e+04  1.086049e+04\n",
       "1           ridge_default  2.398432e+04  1.085992e+04\n",
       "2           lasso_default  2.398446e+04  1.085954e+04\n",
       "3      elasticnet_default  2.399416e+04  1.087532e+04\n",
       "4           linreg_minmax  2.402745e+04  1.094546e+04\n",
       "5            ridge_minmax  2.398433e+04  1.088042e+04\n",
       "6            lasso_minmax  2.400372e+04  1.090476e+04\n",
       "7       elasticnet_minmax  2.405321e+04  1.099301e+04\n",
       "8       linreg_std_scaler  2.429099e+04  1.149233e+04\n",
       "9        ridge_std_scaler  2.429097e+04  1.149249e+04\n",
       "10       lasso_std_scaler  2.429097e+04  1.149250e+04\n",
       "11  elasticnet_std_scaler  2.429317e+04  1.149378e+04\n",
       "12            linreg_poly  2.225628e+36  9.765079e+35\n",
       "13             ridge_poly  2.438598e+04  4.167600e+08\n",
       "14             lasso_poly  8.461263e+44  3.720154e+44\n",
       "15        elasticnet_poly  2.886840e+44  1.294134e+44"
      ]
     },
     "execution_count": 346,
     "metadata": {},
     "output_type": "execute_result"
    }
   ],
   "source": [
    "result_RMSE"
   ]
  },
  {
   "cell_type": "code",
   "execution_count": 347,
   "metadata": {},
   "outputs": [
    {
     "data": {
      "text/html": [
       "<div>\n",
       "<style scoped>\n",
       "    .dataframe tbody tr th:only-of-type {\n",
       "        vertical-align: middle;\n",
       "    }\n",
       "\n",
       "    .dataframe tbody tr th {\n",
       "        vertical-align: top;\n",
       "    }\n",
       "\n",
       "    .dataframe thead th {\n",
       "        text-align: right;\n",
       "    }\n",
       "</style>\n",
       "<table border=\"1\" class=\"dataframe\">\n",
       "  <thead>\n",
       "    <tr style=\"text-align: right;\">\n",
       "      <th></th>\n",
       "      <th>model</th>\n",
       "      <th>train</th>\n",
       "      <th>test</th>\n",
       "    </tr>\n",
       "  </thead>\n",
       "  <tbody>\n",
       "    <tr>\n",
       "      <th>0</th>\n",
       "      <td>linreg_default</td>\n",
       "      <td>5.444149e-03</td>\n",
       "      <td>2.396308e-02</td>\n",
       "    </tr>\n",
       "    <tr>\n",
       "      <th>1</th>\n",
       "      <td>ridge_default</td>\n",
       "      <td>5.563895e-03</td>\n",
       "      <td>2.407545e-02</td>\n",
       "    </tr>\n",
       "    <tr>\n",
       "      <th>2</th>\n",
       "      <td>lasso_default</td>\n",
       "      <td>5.552452e-03</td>\n",
       "      <td>2.414552e-02</td>\n",
       "    </tr>\n",
       "    <tr>\n",
       "      <th>3</th>\n",
       "      <td>elasticnet_default</td>\n",
       "      <td>4.787732e-03</td>\n",
       "      <td>2.129814e-02</td>\n",
       "    </tr>\n",
       "    <tr>\n",
       "      <th>4</th>\n",
       "      <td>linreg_minmax</td>\n",
       "      <td>2.153741e-03</td>\n",
       "      <td>8.903205e-03</td>\n",
       "    </tr>\n",
       "    <tr>\n",
       "      <th>5</th>\n",
       "      <td>ridge_minmax</td>\n",
       "      <td>5.563117e-03</td>\n",
       "      <td>2.281667e-02</td>\n",
       "    </tr>\n",
       "    <tr>\n",
       "      <th>6</th>\n",
       "      <td>lasso_minmax</td>\n",
       "      <td>4.015498e-03</td>\n",
       "      <td>1.597976e-02</td>\n",
       "    </tr>\n",
       "    <tr>\n",
       "      <th>7</th>\n",
       "      <td>elasticnet_minmax</td>\n",
       "      <td>8.452241e-04</td>\n",
       "      <td>3.493213e-03</td>\n",
       "    </tr>\n",
       "    <tr>\n",
       "      <th>8</th>\n",
       "      <td>linreg_std_scaler</td>\n",
       "      <td>5.563642e-03</td>\n",
       "      <td>2.404681e-02</td>\n",
       "    </tr>\n",
       "    <tr>\n",
       "      <th>9</th>\n",
       "      <td>ridge_std_scaler</td>\n",
       "      <td>5.565820e-03</td>\n",
       "      <td>2.401476e-02</td>\n",
       "    </tr>\n",
       "    <tr>\n",
       "      <th>10</th>\n",
       "      <td>lasso_std_scaler</td>\n",
       "      <td>5.565657e-03</td>\n",
       "      <td>2.401422e-02</td>\n",
       "    </tr>\n",
       "    <tr>\n",
       "      <th>11</th>\n",
       "      <td>elasticnet_std_scaler</td>\n",
       "      <td>5.380996e-03</td>\n",
       "      <td>2.377032e-02</td>\n",
       "    </tr>\n",
       "    <tr>\n",
       "      <th>12</th>\n",
       "      <td>linreg_poly</td>\n",
       "      <td>-8.555733e+63</td>\n",
       "      <td>-7.864661e+63</td>\n",
       "    </tr>\n",
       "    <tr>\n",
       "      <th>13</th>\n",
       "      <td>ridge_poly</td>\n",
       "      <td>-2.800926e-02</td>\n",
       "      <td>-1.437191e+09</td>\n",
       "    </tr>\n",
       "    <tr>\n",
       "      <th>14</th>\n",
       "      <td>lasso_poly</td>\n",
       "      <td>-1.236581e+81</td>\n",
       "      <td>-1.141444e+81</td>\n",
       "    </tr>\n",
       "    <tr>\n",
       "      <th>15</th>\n",
       "      <td>elasticnet_poly</td>\n",
       "      <td>-1.439453e+80</td>\n",
       "      <td>-1.381439e+80</td>\n",
       "    </tr>\n",
       "  </tbody>\n",
       "</table>\n",
       "</div>"
      ],
      "text/plain": [
       "                    model         train          test\n",
       "0          linreg_default  5.444149e-03  2.396308e-02\n",
       "1           ridge_default  5.563895e-03  2.407545e-02\n",
       "2           lasso_default  5.552452e-03  2.414552e-02\n",
       "3      elasticnet_default  4.787732e-03  2.129814e-02\n",
       "4           linreg_minmax  2.153741e-03  8.903205e-03\n",
       "5            ridge_minmax  5.563117e-03  2.281667e-02\n",
       "6            lasso_minmax  4.015498e-03  1.597976e-02\n",
       "7       elasticnet_minmax  8.452241e-04  3.493213e-03\n",
       "8       linreg_std_scaler  5.563642e-03  2.404681e-02\n",
       "9        ridge_std_scaler  5.565820e-03  2.401476e-02\n",
       "10       lasso_std_scaler  5.565657e-03  2.401422e-02\n",
       "11  elasticnet_std_scaler  5.380996e-03  2.377032e-02\n",
       "12            linreg_poly -8.555733e+63 -7.864661e+63\n",
       "13             ridge_poly -2.800926e-02 -1.437191e+09\n",
       "14             lasso_poly -1.236581e+81 -1.141444e+81\n",
       "15        elasticnet_poly -1.439453e+80 -1.381439e+80"
      ]
     },
     "execution_count": 347,
     "metadata": {},
     "output_type": "execute_result"
    }
   ],
   "source": [
    "result_R2"
   ]
  },
  {
   "cell_type": "markdown",
   "metadata": {},
   "source": [
    "Лучшие модели по моему:\n",
    "1. Default: Elastic Net(L1+L2)\n",
    "2. MinMax : Ridge(L2)\n",
    "3. StdScal: Ridge(L2)\n",
    "4. PolyFut: Ridge(L2)"
   ]
  },
  {
   "cell_type": "markdown",
   "metadata": {},
   "source": [
    "## 8.6 Addition try different alpha parameters of regularization in algorithms, choose best and analyze results."
   ]
  },
  {
   "cell_type": "code",
   "execution_count": 348,
   "metadata": {},
   "outputs": [
    {
     "data": {
      "text/plain": [
       "array([[2200.34005989],\n",
       "       [2639.23147669],\n",
       "       [3603.65590906],\n",
       "       ...,\n",
       "       [1806.94272377],\n",
       "       [2149.34727534],\n",
       "       [7248.39437791]])"
      ]
     },
     "execution_count": 348,
     "metadata": {},
     "output_type": "execute_result"
    }
   ],
   "source": [
    "my_lin_reg = MyLinearRegression()\n",
    "my_lin_reg.fit(X_train.to_numpy(), Y_train.to_numpy())\n",
    "yp_my_train = my_lin_reg.predict(X_train.to_numpy())\n",
    "yp_my_test = my_lin_reg.predict(X_test.to_numpy())\n",
    "yp_my_train"
   ]
  },
  {
   "cell_type": "code",
   "execution_count": 349,
   "metadata": {},
   "outputs": [],
   "source": [
    "my_L2 = MyL2()\n",
    "my_L2.fit(X_train, Y_train)\n",
    "yp_my_L2_train = my_L2.predict(X_train)\n",
    "yp_my_L2_test = my_L2.predict(X_test)"
   ]
  },
  {
   "cell_type": "code",
   "execution_count": 350,
   "metadata": {},
   "outputs": [],
   "source": [
    "my_L1 = MyL1()\n",
    "my_L1.fit(X_train, Y_train)\n",
    "yp_my_L1_train = my_L1.predict(X_train)\n",
    "yp_my_L1_test = my_L1.predict(X_test)"
   ]
  },
  {
   "cell_type": "code",
   "execution_count": 351,
   "metadata": {},
   "outputs": [],
   "source": [
    "lr_best_a = 0.0001\n",
    "first_lr = MyLinearRegression(alpha=lr_best_a)\n",
    "first_lr.fit(X_train.to_numpy(), Y_train.to_numpy())\n",
    "lr_min_mse = mean_squared_error(Y_test.to_numpy(), first_lr.predict(X_test.to_numpy()))\n",
    "for alpha in [num / 10000 for num in range(1, 1000, 10)]:\n",
    "    my_lin_reg = MyLinearRegression(alpha=alpha)\n",
    "    my_lin_reg.fit(X_train.to_numpy(), Y_train.to_numpy())\n",
    "    yp = my_lin_reg.predict(X_test.to_numpy())\n",
    "    if mean_squared_error(Y_test.to_numpy(), yp) < lr_min_mse:\n",
    "        lr_best_a = alpha\n",
    "        lr_min_mse = mean_squared_error(Y_test.to_numpy(), yp)"
   ]
  },
  {
   "cell_type": "code",
   "execution_count": 352,
   "metadata": {},
   "outputs": [
    {
     "data": {
      "text/plain": [
       "0.0191"
      ]
     },
     "execution_count": 352,
     "metadata": {},
     "output_type": "execute_result"
    }
   ],
   "source": [
    "lr_best_a"
   ]
  },
  {
   "cell_type": "code",
   "execution_count": 353,
   "metadata": {},
   "outputs": [
    {
     "data": {
      "text/plain": [
       "117925521.08554548"
      ]
     },
     "execution_count": 353,
     "metadata": {},
     "output_type": "execute_result"
    }
   ],
   "source": [
    "lr_min_mse"
   ]
  },
  {
   "cell_type": "code",
   "execution_count": 354,
   "metadata": {},
   "outputs": [],
   "source": [
    "l1_best_a = 0.0001\n",
    "first_l1 = MyL1(alpha=l1_best_a)\n",
    "first_l1.fit(X_train, Y_train)\n",
    "l1_min_mse = mean_squared_error(Y_test, first_l1.predict(X_test))\n",
    "for alpha in [num / 10000 for num in range(1, 1000, 10)]:\n",
    "    my_l1 = MyL1(alpha=alpha)\n",
    "    my_l1.fit(X_train, Y_train)\n",
    "    yp = my_l1.predict(X_test)\n",
    "    if mean_squared_error(Y_test, yp) < l1_min_mse:\n",
    "        l1_best_a = alpha\n",
    "        l1_min_mse = mean_squared_error(Y_test, yp)"
   ]
  },
  {
   "cell_type": "code",
   "execution_count": 355,
   "metadata": {},
   "outputs": [
    {
     "data": {
      "text/plain": [
       "0.0191"
      ]
     },
     "execution_count": 355,
     "metadata": {},
     "output_type": "execute_result"
    }
   ],
   "source": [
    "l1_best_a"
   ]
  },
  {
   "cell_type": "code",
   "execution_count": 356,
   "metadata": {},
   "outputs": [
    {
     "data": {
      "text/plain": [
       "117925523.02742486"
      ]
     },
     "execution_count": 356,
     "metadata": {},
     "output_type": "execute_result"
    }
   ],
   "source": [
    "l1_min_mse"
   ]
  },
  {
   "cell_type": "code",
   "execution_count": 357,
   "metadata": {},
   "outputs": [],
   "source": [
    "en_best_a = 0.001\n",
    "first_en = MyElasticNet(alpha=en_best_a)\n",
    "first_en.fit(X_train, Y_train)\n",
    "en_min_mse = mean_squared_error(Y_test, first_en.predict(X_test))\n",
    "for alpha in [num / 1000 for num in range(1, 100, 5)]:\n",
    "    my_en = MyElasticNet(alpha=alpha)\n",
    "    my_en.fit(X_train, Y_train)\n",
    "    yp = my_en.predict(X_test)\n",
    "    if mean_squared_error(Y_test, yp) < en_min_mse:\n",
    "        en_best_a = alpha\n",
    "        en_min_mse = mean_squared_error(Y_test, yp)"
   ]
  },
  {
   "cell_type": "code",
   "execution_count": 358,
   "metadata": {},
   "outputs": [
    {
     "data": {
      "text/plain": [
       "0.096"
      ]
     },
     "execution_count": 358,
     "metadata": {},
     "output_type": "execute_result"
    }
   ],
   "source": [
    "en_best_a"
   ]
  },
  {
   "cell_type": "code",
   "execution_count": 359,
   "metadata": {},
   "outputs": [
    {
     "data": {
      "text/plain": [
       "118272327.66754018"
      ]
     },
     "execution_count": 359,
     "metadata": {},
     "output_type": "execute_result"
    }
   ],
   "source": [
    "en_min_mse"
   ]
  },
  {
   "cell_type": "markdown",
   "metadata": {},
   "source": [
    "# 9. Native models"
   ]
  },
  {
   "cell_type": "markdown",
   "metadata": {},
   "source": [
    "## 9.1 Calculate metrics for mean and median from previous lesson and add results to final dataframe."
   ]
  },
  {
   "cell_type": "code",
   "execution_count": 360,
   "metadata": {},
   "outputs": [
    {
     "name": "stderr",
     "output_type": "stream",
     "text": [
      "/var/folders/zz/zyxvpxvq6csfxvn_n003whnr00z45f/T/ipykernel_14532/2417243689.py:4: FutureWarning: Series.__getitem__ treating keys as positions is deprecated. In a future version, integer keys will always be treated as labels (consistent with DataFrame behavior). To access a value by position, use `ser.iloc[pos]`\n",
      "  return (1 - (rss / tss)[0])\n"
     ]
    }
   ],
   "source": [
    "result_MAE.loc[len(result_MAE)] = ['native_mean', \n",
    "                                   mean_absolute_error(Y_train, Y_train.assign(price=Y_train['price'].mean())), \n",
    "                                   mean_absolute_error(Y_test, Y_test.assign(price=Y_test['price'].mean()))]\n",
    "result_RMSE.loc[len(result_MAE)] = ['native_mean', \n",
    "                                   np.sqrt(mean_squared_error(Y_train, Y_train.assign(price=Y_train['price'].mean()))), \n",
    "                                   np.sqrt(mean_squared_error(Y_test, Y_test.assign(price=Y_test['price'].mean())))]\n",
    "result_R2.loc[len(result_R2)] = ['native_mean', \n",
    "                                 r_squared(Y_train, Y_train.assign(price=Y_train['price'].mean())), \n",
    "                                 r_squared(Y_test, Y_test.assign(price=Y_test['price'].mean()))]"
   ]
  },
  {
   "cell_type": "code",
   "execution_count": 361,
   "metadata": {},
   "outputs": [
    {
     "name": "stderr",
     "output_type": "stream",
     "text": [
      "/var/folders/zz/zyxvpxvq6csfxvn_n003whnr00z45f/T/ipykernel_14532/2417243689.py:4: FutureWarning: Series.__getitem__ treating keys as positions is deprecated. In a future version, integer keys will always be treated as labels (consistent with DataFrame behavior). To access a value by position, use `ser.iloc[pos]`\n",
      "  return (1 - (rss / tss)[0])\n",
      "/var/folders/zz/zyxvpxvq6csfxvn_n003whnr00z45f/T/ipykernel_14532/2417243689.py:4: FutureWarning: Series.__getitem__ treating keys as positions is deprecated. In a future version, integer keys will always be treated as labels (consistent with DataFrame behavior). To access a value by position, use `ser.iloc[pos]`\n",
      "  return (1 - (rss / tss)[0])\n"
     ]
    }
   ],
   "source": [
    "result_MAE.loc[len(result_MAE)] = ['native_median', \n",
    "                                   mean_absolute_error(Y_train, Y_train.assign(price=Y_train['price'].median())), \n",
    "                                   mean_absolute_error(Y_test, Y_test.assign(price=Y_test['price'].median()))]\n",
    "result_RMSE.loc[len(result_MAE)] = ['native_median', \n",
    "                                   np.sqrt(mean_squared_error(Y_train, Y_train.assign(price=Y_train['price'].median()))), \n",
    "                                   np.sqrt(mean_squared_error(Y_test, Y_test.assign(price=Y_test['price'].median())))]\n",
    "result_R2.loc[len(result_R2)] = ['native_median', \n",
    "                                 r_squared(Y_train, Y_train.assign(price=Y_train['price'].median())), \n",
    "                                 r_squared(Y_test, Y_test.assign(price=Y_test['price'].median()))]"
   ]
  },
  {
   "cell_type": "markdown",
   "metadata": {},
   "source": [
    "# 10. Compare results"
   ]
  },
  {
   "cell_type": "markdown",
   "metadata": {},
   "source": [
    "## 10.1 Print your final tables"
   ]
  },
  {
   "cell_type": "code",
   "execution_count": 362,
   "metadata": {},
   "outputs": [
    {
     "data": {
      "text/html": [
       "<div>\n",
       "<style scoped>\n",
       "    .dataframe tbody tr th:only-of-type {\n",
       "        vertical-align: middle;\n",
       "    }\n",
       "\n",
       "    .dataframe tbody tr th {\n",
       "        vertical-align: top;\n",
       "    }\n",
       "\n",
       "    .dataframe thead th {\n",
       "        text-align: right;\n",
       "    }\n",
       "</style>\n",
       "<table border=\"1\" class=\"dataframe\">\n",
       "  <thead>\n",
       "    <tr style=\"text-align: right;\">\n",
       "      <th></th>\n",
       "      <th>model</th>\n",
       "      <th>train</th>\n",
       "      <th>test</th>\n",
       "    </tr>\n",
       "  </thead>\n",
       "  <tbody>\n",
       "    <tr>\n",
       "      <th>0</th>\n",
       "      <td>linreg_default</td>\n",
       "      <td>1.142316e+03</td>\n",
       "      <td>1.055719e+03</td>\n",
       "    </tr>\n",
       "    <tr>\n",
       "      <th>1</th>\n",
       "      <td>ridge_default</td>\n",
       "      <td>1.191360e+03</td>\n",
       "      <td>1.103737e+03</td>\n",
       "    </tr>\n",
       "    <tr>\n",
       "      <th>2</th>\n",
       "      <td>lasso_default</td>\n",
       "      <td>1.179047e+03</td>\n",
       "      <td>1.092316e+03</td>\n",
       "    </tr>\n",
       "    <tr>\n",
       "      <th>3</th>\n",
       "      <td>elasticnet_default</td>\n",
       "      <td>1.094575e+03</td>\n",
       "      <td>1.006413e+03</td>\n",
       "    </tr>\n",
       "    <tr>\n",
       "      <th>4</th>\n",
       "      <td>linreg_minmax</td>\n",
       "      <td>1.478331e+03</td>\n",
       "      <td>1.383946e+03</td>\n",
       "    </tr>\n",
       "    <tr>\n",
       "      <th>5</th>\n",
       "      <td>ridge_minmax</td>\n",
       "      <td>1.189028e+03</td>\n",
       "      <td>1.110485e+03</td>\n",
       "    </tr>\n",
       "    <tr>\n",
       "      <th>6</th>\n",
       "      <td>lasso_minmax</td>\n",
       "      <td>1.322840e+03</td>\n",
       "      <td>1.252566e+03</td>\n",
       "    </tr>\n",
       "    <tr>\n",
       "      <th>7</th>\n",
       "      <td>elasticnet_minmax</td>\n",
       "      <td>1.582268e+03</td>\n",
       "      <td>1.483717e+03</td>\n",
       "    </tr>\n",
       "    <tr>\n",
       "      <th>8</th>\n",
       "      <td>linreg_std_scaler</td>\n",
       "      <td>3.853383e+03</td>\n",
       "      <td>3.769009e+03</td>\n",
       "    </tr>\n",
       "    <tr>\n",
       "      <th>9</th>\n",
       "      <td>ridge_std_scaler</td>\n",
       "      <td>3.853398e+03</td>\n",
       "      <td>3.769044e+03</td>\n",
       "    </tr>\n",
       "    <tr>\n",
       "      <th>10</th>\n",
       "      <td>lasso_std_scaler</td>\n",
       "      <td>3.853395e+03</td>\n",
       "      <td>3.769048e+03</td>\n",
       "    </tr>\n",
       "    <tr>\n",
       "      <th>11</th>\n",
       "      <td>elasticnet_std_scaler</td>\n",
       "      <td>3.850171e+03</td>\n",
       "      <td>3.764335e+03</td>\n",
       "    </tr>\n",
       "    <tr>\n",
       "      <th>12</th>\n",
       "      <td>linreg_poly</td>\n",
       "      <td>6.494000e+34</td>\n",
       "      <td>5.652960e+34</td>\n",
       "    </tr>\n",
       "    <tr>\n",
       "      <th>13</th>\n",
       "      <td>ridge_poly</td>\n",
       "      <td>1.153185e+03</td>\n",
       "      <td>4.196459e+06</td>\n",
       "    </tr>\n",
       "    <tr>\n",
       "      <th>14</th>\n",
       "      <td>lasso_poly</td>\n",
       "      <td>2.468970e+43</td>\n",
       "      <td>2.150360e+43</td>\n",
       "    </tr>\n",
       "    <tr>\n",
       "      <th>15</th>\n",
       "      <td>elasticnet_poly</td>\n",
       "      <td>8.427484e+42</td>\n",
       "      <td>7.376593e+42</td>\n",
       "    </tr>\n",
       "    <tr>\n",
       "      <th>16</th>\n",
       "      <td>native_mean</td>\n",
       "      <td>1.573622e+03</td>\n",
       "      <td>1.454892e+03</td>\n",
       "    </tr>\n",
       "    <tr>\n",
       "      <th>17</th>\n",
       "      <td>native_median</td>\n",
       "      <td>1.417405e+03</td>\n",
       "      <td>1.332108e+03</td>\n",
       "    </tr>\n",
       "  </tbody>\n",
       "</table>\n",
       "</div>"
      ],
      "text/plain": [
       "                    model         train          test\n",
       "0          linreg_default  1.142316e+03  1.055719e+03\n",
       "1           ridge_default  1.191360e+03  1.103737e+03\n",
       "2           lasso_default  1.179047e+03  1.092316e+03\n",
       "3      elasticnet_default  1.094575e+03  1.006413e+03\n",
       "4           linreg_minmax  1.478331e+03  1.383946e+03\n",
       "5            ridge_minmax  1.189028e+03  1.110485e+03\n",
       "6            lasso_minmax  1.322840e+03  1.252566e+03\n",
       "7       elasticnet_minmax  1.582268e+03  1.483717e+03\n",
       "8       linreg_std_scaler  3.853383e+03  3.769009e+03\n",
       "9        ridge_std_scaler  3.853398e+03  3.769044e+03\n",
       "10       lasso_std_scaler  3.853395e+03  3.769048e+03\n",
       "11  elasticnet_std_scaler  3.850171e+03  3.764335e+03\n",
       "12            linreg_poly  6.494000e+34  5.652960e+34\n",
       "13             ridge_poly  1.153185e+03  4.196459e+06\n",
       "14             lasso_poly  2.468970e+43  2.150360e+43\n",
       "15        elasticnet_poly  8.427484e+42  7.376593e+42\n",
       "16            native_mean  1.573622e+03  1.454892e+03\n",
       "17          native_median  1.417405e+03  1.332108e+03"
      ]
     },
     "execution_count": 362,
     "metadata": {},
     "output_type": "execute_result"
    }
   ],
   "source": [
    "result_MAE"
   ]
  },
  {
   "cell_type": "code",
   "execution_count": 363,
   "metadata": {},
   "outputs": [
    {
     "data": {
      "text/html": [
       "<div>\n",
       "<style scoped>\n",
       "    .dataframe tbody tr th:only-of-type {\n",
       "        vertical-align: middle;\n",
       "    }\n",
       "\n",
       "    .dataframe tbody tr th {\n",
       "        vertical-align: top;\n",
       "    }\n",
       "\n",
       "    .dataframe thead th {\n",
       "        text-align: right;\n",
       "    }\n",
       "</style>\n",
       "<table border=\"1\" class=\"dataframe\">\n",
       "  <thead>\n",
       "    <tr style=\"text-align: right;\">\n",
       "      <th></th>\n",
       "      <th>model</th>\n",
       "      <th>train</th>\n",
       "      <th>test</th>\n",
       "    </tr>\n",
       "  </thead>\n",
       "  <tbody>\n",
       "    <tr>\n",
       "      <th>0</th>\n",
       "      <td>linreg_default</td>\n",
       "      <td>2.398577e+04</td>\n",
       "      <td>1.086049e+04</td>\n",
       "    </tr>\n",
       "    <tr>\n",
       "      <th>1</th>\n",
       "      <td>ridge_default</td>\n",
       "      <td>2.398432e+04</td>\n",
       "      <td>1.085992e+04</td>\n",
       "    </tr>\n",
       "    <tr>\n",
       "      <th>2</th>\n",
       "      <td>lasso_default</td>\n",
       "      <td>2.398446e+04</td>\n",
       "      <td>1.085954e+04</td>\n",
       "    </tr>\n",
       "    <tr>\n",
       "      <th>3</th>\n",
       "      <td>elasticnet_default</td>\n",
       "      <td>2.399416e+04</td>\n",
       "      <td>1.087532e+04</td>\n",
       "    </tr>\n",
       "    <tr>\n",
       "      <th>4</th>\n",
       "      <td>linreg_minmax</td>\n",
       "      <td>2.402745e+04</td>\n",
       "      <td>1.094546e+04</td>\n",
       "    </tr>\n",
       "    <tr>\n",
       "      <th>5</th>\n",
       "      <td>ridge_minmax</td>\n",
       "      <td>2.398433e+04</td>\n",
       "      <td>1.088042e+04</td>\n",
       "    </tr>\n",
       "    <tr>\n",
       "      <th>6</th>\n",
       "      <td>lasso_minmax</td>\n",
       "      <td>2.400372e+04</td>\n",
       "      <td>1.090476e+04</td>\n",
       "    </tr>\n",
       "    <tr>\n",
       "      <th>7</th>\n",
       "      <td>elasticnet_minmax</td>\n",
       "      <td>2.405321e+04</td>\n",
       "      <td>1.099301e+04</td>\n",
       "    </tr>\n",
       "    <tr>\n",
       "      <th>8</th>\n",
       "      <td>linreg_std_scaler</td>\n",
       "      <td>2.429099e+04</td>\n",
       "      <td>1.149233e+04</td>\n",
       "    </tr>\n",
       "    <tr>\n",
       "      <th>9</th>\n",
       "      <td>ridge_std_scaler</td>\n",
       "      <td>2.429097e+04</td>\n",
       "      <td>1.149249e+04</td>\n",
       "    </tr>\n",
       "    <tr>\n",
       "      <th>10</th>\n",
       "      <td>lasso_std_scaler</td>\n",
       "      <td>2.429097e+04</td>\n",
       "      <td>1.149250e+04</td>\n",
       "    </tr>\n",
       "    <tr>\n",
       "      <th>11</th>\n",
       "      <td>elasticnet_std_scaler</td>\n",
       "      <td>2.429317e+04</td>\n",
       "      <td>1.149378e+04</td>\n",
       "    </tr>\n",
       "    <tr>\n",
       "      <th>12</th>\n",
       "      <td>linreg_poly</td>\n",
       "      <td>2.225628e+36</td>\n",
       "      <td>9.765079e+35</td>\n",
       "    </tr>\n",
       "    <tr>\n",
       "      <th>13</th>\n",
       "      <td>ridge_poly</td>\n",
       "      <td>2.438598e+04</td>\n",
       "      <td>4.167600e+08</td>\n",
       "    </tr>\n",
       "    <tr>\n",
       "      <th>14</th>\n",
       "      <td>lasso_poly</td>\n",
       "      <td>8.461263e+44</td>\n",
       "      <td>3.720154e+44</td>\n",
       "    </tr>\n",
       "    <tr>\n",
       "      <th>15</th>\n",
       "      <td>elasticnet_poly</td>\n",
       "      <td>2.886840e+44</td>\n",
       "      <td>1.294134e+44</td>\n",
       "    </tr>\n",
       "    <tr>\n",
       "      <th>17</th>\n",
       "      <td>native_mean</td>\n",
       "      <td>2.405132e+04</td>\n",
       "      <td>1.099276e+04</td>\n",
       "    </tr>\n",
       "    <tr>\n",
       "      <th>18</th>\n",
       "      <td>native_median</td>\n",
       "      <td>2.406144e+04</td>\n",
       "      <td>1.100968e+04</td>\n",
       "    </tr>\n",
       "  </tbody>\n",
       "</table>\n",
       "</div>"
      ],
      "text/plain": [
       "                    model         train          test\n",
       "0          linreg_default  2.398577e+04  1.086049e+04\n",
       "1           ridge_default  2.398432e+04  1.085992e+04\n",
       "2           lasso_default  2.398446e+04  1.085954e+04\n",
       "3      elasticnet_default  2.399416e+04  1.087532e+04\n",
       "4           linreg_minmax  2.402745e+04  1.094546e+04\n",
       "5            ridge_minmax  2.398433e+04  1.088042e+04\n",
       "6            lasso_minmax  2.400372e+04  1.090476e+04\n",
       "7       elasticnet_minmax  2.405321e+04  1.099301e+04\n",
       "8       linreg_std_scaler  2.429099e+04  1.149233e+04\n",
       "9        ridge_std_scaler  2.429097e+04  1.149249e+04\n",
       "10       lasso_std_scaler  2.429097e+04  1.149250e+04\n",
       "11  elasticnet_std_scaler  2.429317e+04  1.149378e+04\n",
       "12            linreg_poly  2.225628e+36  9.765079e+35\n",
       "13             ridge_poly  2.438598e+04  4.167600e+08\n",
       "14             lasso_poly  8.461263e+44  3.720154e+44\n",
       "15        elasticnet_poly  2.886840e+44  1.294134e+44\n",
       "17            native_mean  2.405132e+04  1.099276e+04\n",
       "18          native_median  2.406144e+04  1.100968e+04"
      ]
     },
     "execution_count": 363,
     "metadata": {},
     "output_type": "execute_result"
    }
   ],
   "source": [
    "result_RMSE"
   ]
  },
  {
   "cell_type": "code",
   "execution_count": 364,
   "metadata": {},
   "outputs": [
    {
     "data": {
      "text/html": [
       "<div>\n",
       "<style scoped>\n",
       "    .dataframe tbody tr th:only-of-type {\n",
       "        vertical-align: middle;\n",
       "    }\n",
       "\n",
       "    .dataframe tbody tr th {\n",
       "        vertical-align: top;\n",
       "    }\n",
       "\n",
       "    .dataframe thead th {\n",
       "        text-align: right;\n",
       "    }\n",
       "</style>\n",
       "<table border=\"1\" class=\"dataframe\">\n",
       "  <thead>\n",
       "    <tr style=\"text-align: right;\">\n",
       "      <th></th>\n",
       "      <th>model</th>\n",
       "      <th>train</th>\n",
       "      <th>test</th>\n",
       "    </tr>\n",
       "  </thead>\n",
       "  <tbody>\n",
       "    <tr>\n",
       "      <th>0</th>\n",
       "      <td>linreg_default</td>\n",
       "      <td>5.444149e-03</td>\n",
       "      <td>2.396308e-02</td>\n",
       "    </tr>\n",
       "    <tr>\n",
       "      <th>1</th>\n",
       "      <td>ridge_default</td>\n",
       "      <td>5.563895e-03</td>\n",
       "      <td>2.407545e-02</td>\n",
       "    </tr>\n",
       "    <tr>\n",
       "      <th>2</th>\n",
       "      <td>lasso_default</td>\n",
       "      <td>5.552452e-03</td>\n",
       "      <td>2.414552e-02</td>\n",
       "    </tr>\n",
       "    <tr>\n",
       "      <th>3</th>\n",
       "      <td>elasticnet_default</td>\n",
       "      <td>4.787732e-03</td>\n",
       "      <td>2.129814e-02</td>\n",
       "    </tr>\n",
       "    <tr>\n",
       "      <th>4</th>\n",
       "      <td>linreg_minmax</td>\n",
       "      <td>2.153741e-03</td>\n",
       "      <td>8.903205e-03</td>\n",
       "    </tr>\n",
       "    <tr>\n",
       "      <th>5</th>\n",
       "      <td>ridge_minmax</td>\n",
       "      <td>5.563117e-03</td>\n",
       "      <td>2.281667e-02</td>\n",
       "    </tr>\n",
       "    <tr>\n",
       "      <th>6</th>\n",
       "      <td>lasso_minmax</td>\n",
       "      <td>4.015498e-03</td>\n",
       "      <td>1.597976e-02</td>\n",
       "    </tr>\n",
       "    <tr>\n",
       "      <th>7</th>\n",
       "      <td>elasticnet_minmax</td>\n",
       "      <td>8.452241e-04</td>\n",
       "      <td>3.493213e-03</td>\n",
       "    </tr>\n",
       "    <tr>\n",
       "      <th>8</th>\n",
       "      <td>linreg_std_scaler</td>\n",
       "      <td>5.563642e-03</td>\n",
       "      <td>2.404681e-02</td>\n",
       "    </tr>\n",
       "    <tr>\n",
       "      <th>9</th>\n",
       "      <td>ridge_std_scaler</td>\n",
       "      <td>5.565820e-03</td>\n",
       "      <td>2.401476e-02</td>\n",
       "    </tr>\n",
       "    <tr>\n",
       "      <th>10</th>\n",
       "      <td>lasso_std_scaler</td>\n",
       "      <td>5.565657e-03</td>\n",
       "      <td>2.401422e-02</td>\n",
       "    </tr>\n",
       "    <tr>\n",
       "      <th>11</th>\n",
       "      <td>elasticnet_std_scaler</td>\n",
       "      <td>5.380996e-03</td>\n",
       "      <td>2.377032e-02</td>\n",
       "    </tr>\n",
       "    <tr>\n",
       "      <th>12</th>\n",
       "      <td>linreg_poly</td>\n",
       "      <td>-8.555733e+63</td>\n",
       "      <td>-7.864661e+63</td>\n",
       "    </tr>\n",
       "    <tr>\n",
       "      <th>13</th>\n",
       "      <td>ridge_poly</td>\n",
       "      <td>-2.800926e-02</td>\n",
       "      <td>-1.437191e+09</td>\n",
       "    </tr>\n",
       "    <tr>\n",
       "      <th>14</th>\n",
       "      <td>lasso_poly</td>\n",
       "      <td>-1.236581e+81</td>\n",
       "      <td>-1.141444e+81</td>\n",
       "    </tr>\n",
       "    <tr>\n",
       "      <th>15</th>\n",
       "      <td>elasticnet_poly</td>\n",
       "      <td>-1.439453e+80</td>\n",
       "      <td>-1.381439e+80</td>\n",
       "    </tr>\n",
       "    <tr>\n",
       "      <th>16</th>\n",
       "      <td>native_mean</td>\n",
       "      <td>0.000000e+00</td>\n",
       "      <td>0.000000e+00</td>\n",
       "    </tr>\n",
       "    <tr>\n",
       "      <th>17</th>\n",
       "      <td>native_median</td>\n",
       "      <td>0.000000e+00</td>\n",
       "      <td>0.000000e+00</td>\n",
       "    </tr>\n",
       "  </tbody>\n",
       "</table>\n",
       "</div>"
      ],
      "text/plain": [
       "                    model         train          test\n",
       "0          linreg_default  5.444149e-03  2.396308e-02\n",
       "1           ridge_default  5.563895e-03  2.407545e-02\n",
       "2           lasso_default  5.552452e-03  2.414552e-02\n",
       "3      elasticnet_default  4.787732e-03  2.129814e-02\n",
       "4           linreg_minmax  2.153741e-03  8.903205e-03\n",
       "5            ridge_minmax  5.563117e-03  2.281667e-02\n",
       "6            lasso_minmax  4.015498e-03  1.597976e-02\n",
       "7       elasticnet_minmax  8.452241e-04  3.493213e-03\n",
       "8       linreg_std_scaler  5.563642e-03  2.404681e-02\n",
       "9        ridge_std_scaler  5.565820e-03  2.401476e-02\n",
       "10       lasso_std_scaler  5.565657e-03  2.401422e-02\n",
       "11  elasticnet_std_scaler  5.380996e-03  2.377032e-02\n",
       "12            linreg_poly -8.555733e+63 -7.864661e+63\n",
       "13             ridge_poly -2.800926e-02 -1.437191e+09\n",
       "14             lasso_poly -1.236581e+81 -1.141444e+81\n",
       "15        elasticnet_poly -1.439453e+80 -1.381439e+80\n",
       "16            native_mean  0.000000e+00  0.000000e+00\n",
       "17          native_median  0.000000e+00  0.000000e+00"
      ]
     },
     "execution_count": 364,
     "metadata": {},
     "output_type": "execute_result"
    }
   ],
   "source": [
    "result_R2"
   ]
  },
  {
   "cell_type": "markdown",
   "metadata": {},
   "source": [
    "## 10.2 What is the best model?"
   ]
  },
  {
   "cell_type": "markdown",
   "metadata": {},
   "source": [
    "Лучшие модели по моему:\n",
    "1. Default: Elastic Net(L1+L2)\n",
    "2. MinMax: Ridge(L2)\n",
    "3. StdScal: Ridge(L2)\n",
    "4. PolyFut: Ridge(L2)"
   ]
  },
  {
   "cell_type": "markdown",
   "metadata": {},
   "source": [
    "## 10.3 What is the most stable model?"
   ]
  },
  {
   "cell_type": "markdown",
   "metadata": {},
   "source": [
    "lasso_minmax"
   ]
  },
  {
   "cell_type": "markdown",
   "metadata": {},
   "source": [
    "# 11. Addition task"
   ]
  },
  {
   "cell_type": "markdown",
   "metadata": {},
   "source": [
    "## 11.1 There are some tricks with target variable for better model quality. If we have a distribution with a heavy tail, you can use some monotonic function to “improve” distribution. In practice you can use logarithmic functions. We recommend you do this exercise and compare results. But don’t forget to perform inverse transformation when you will compare metrics."
   ]
  },
  {
   "cell_type": "code",
   "execution_count": 365,
   "metadata": {},
   "outputs": [],
   "source": [
    "y_log = np.log(Y_train)\n",
    "model_log = MyLinearRegression(alpha=0.0191)\n",
    "model_log.fit(X_train.to_numpy(), y_log)\n",
    "y_pred_log = model_log.predict(X_test.to_numpy())\n",
    "y_pred = np.exp(y_pred_log)"
   ]
  },
  {
   "cell_type": "code",
   "execution_count": 366,
   "metadata": {},
   "outputs": [
    {
     "data": {
      "text/plain": [
       "13945907906.565697"
      ]
     },
     "execution_count": 366,
     "metadata": {},
     "output_type": "execute_result"
    }
   ],
   "source": [
    "mean_absolute_error(Y_test, y_pred)"
   ]
  },
  {
   "cell_type": "code",
   "execution_count": 367,
   "metadata": {},
   "outputs": [
    {
     "data": {
      "text/plain": [
       "array([[6814.73351337],\n",
       "       [5634.67497719],\n",
       "       [4084.96340062],\n",
       "       ...,\n",
       "       [3429.37838622],\n",
       "       [3664.48603369],\n",
       "       [3752.89784742]])"
      ]
     },
     "execution_count": 367,
     "metadata": {},
     "output_type": "execute_result"
    }
   ],
   "source": [
    "my_lin_reg = MyLinearRegression()\n",
    "my_lin_reg.fit(X_train.to_numpy(), Y_train.to_numpy())\n",
    "yp_my_train = my_lin_reg.predict(X_train.to_numpy())\n",
    "yp_my_test = my_lin_reg.predict(X_test.to_numpy())\n",
    "yp_my_test"
   ]
  },
  {
   "cell_type": "code",
   "execution_count": 368,
   "metadata": {},
   "outputs": [
    {
     "data": {
      "text/plain": [
       "1055.7194751495945"
      ]
     },
     "execution_count": 368,
     "metadata": {},
     "output_type": "execute_result"
    }
   ],
   "source": [
    "mean_absolute_error(Y_test, yp_my_test)"
   ]
  },
  {
   "cell_type": "markdown",
   "metadata": {},
   "source": [
    "## 11.2 Next trick is outliers. The angle of the linear regression line strongly depends on outlier points. And often you should remove these points from !allert! only train data. You should explain why it was removed only from the train sample.  We recommend you do this exercise and compare results."
   ]
  },
  {
   "cell_type": "code",
   "execution_count": 369,
   "metadata": {},
   "outputs": [],
   "source": [
    "def cut_by_quantile(df, col_name, q_small, q_big):\n",
    "    q_low, q_high = df[col_name].quantile([q_small, q_big])\n",
    "    return df[(df[col_name] > q_low) & (df[col_name] < q_high)]"
   ]
  },
  {
   "cell_type": "code",
   "execution_count": 370,
   "metadata": {},
   "outputs": [],
   "source": [
    "train = cut_by_quantile(train, 'price', 0.01, 0.99)"
   ]
  },
  {
   "cell_type": "code",
   "execution_count": 371,
   "metadata": {},
   "outputs": [],
   "source": [
    "# .to_numpy()\n",
    "X_train = train.drop(['price'], axis=1)\n",
    "Y_train = train[['price']]"
   ]
  },
  {
   "cell_type": "code",
   "execution_count": 372,
   "metadata": {},
   "outputs": [],
   "source": [
    "X_test = test.drop(['price'], axis=1)\n",
    "Y_test = test[['price']]"
   ]
  },
  {
   "cell_type": "code",
   "execution_count": 373,
   "metadata": {},
   "outputs": [],
   "source": [
    "my_lin_reg = MyLinearRegression()\n",
    "my_lin_reg.fit(X_train.to_numpy(), Y_train.to_numpy())\n",
    "yp_my_train = my_lin_reg.predict(X_train.to_numpy())\n",
    "yp_my_test = my_lin_reg.predict(X_test.to_numpy())"
   ]
  },
  {
   "cell_type": "code",
   "execution_count": 374,
   "metadata": {},
   "outputs": [
    {
     "data": {
      "text/plain": [
       "922.5107124961879"
      ]
     },
     "execution_count": 374,
     "metadata": {},
     "output_type": "execute_result"
    }
   ],
   "source": [
    "mean_absolute_error(Y_test, yp_my_test)"
   ]
  },
  {
   "cell_type": "markdown",
   "metadata": {},
   "source": [
    "да, ошибка уменьшилась"
   ]
  },
  {
   "cell_type": "markdown",
   "metadata": {},
   "source": [
    "## 10.3 Also it will be a useful exercise to realize linear regression algorithm with batch training."
   ]
  },
  {
   "cell_type": "code",
   "execution_count": 388,
   "metadata": {},
   "outputs": [],
   "source": [
    "class MyLinearRegressionBatch:\n",
    "    def __init__(self, alpha=0.01, n_cycles=100):\n",
    "        self.alpha = alpha\n",
    "        self.n_cycles = n_cycles\n",
    "        self.w = None\n",
    "\n",
    "    def fit(self, X, Y):\n",
    "        n_samples, n_features = X.shape\n",
    "        self.w = np.random.randn(n_features)\n",
    "\n",
    "        for _ in range(self.n_cycles):\n",
    "            for i in range(n_samples):\n",
    "                random_index = np.random.randint(n_samples)\n",
    "                xi = X[random_index:random_index+1]\n",
    "                yi = Y[random_index:random_index+1]\n",
    "                gradients = 2 * xi.T.dot(xi.dot(self.w) - yi)\n",
    "                self.w = self.w - self.alpha * gradients\n",
    "\n",
    "    def predict(self, X):\n",
    "        return X.dot(self.w)\n"
   ]
  },
  {
   "cell_type": "code",
   "execution_count": 395,
   "metadata": {},
   "outputs": [],
   "source": [
    "\n",
    "X_b = np.c_[np.ones((X_train.shape[0], 1)), X_train]\n",
    "model = MyLinearRegressionBatch()\n",
    "\n",
    "model.fit(X_b, Y_train.to_numpy())\n",
    "\n",
    "predictions = model.predict(X_b)"
   ]
  },
  {
   "cell_type": "code",
   "execution_count": 416,
   "metadata": {},
   "outputs": [
    {
     "data": {
      "text/plain": [
       "758.6376191612227"
      ]
     },
     "execution_count": 416,
     "metadata": {},
     "output_type": "execute_result"
    }
   ],
   "source": [
    "mean_absolute_error(Y_train, predictions[:,0])"
   ]
  },
  {
   "cell_type": "markdown",
   "metadata": {},
   "source": [
    "да, ошибка уменьшилась"
   ]
  }
 ],
 "metadata": {
  "colab": {
   "provenance": []
  },
  "interpreter": {
   "hash": "1a1af0ee75eeea9e2e1ee996c87e7a2b11a0bebd85af04bb136d915cefc0abce"
  },
  "kernelspec": {
   "display_name": "Python 3 (ipykernel)",
   "language": "python",
   "name": "python3"
  },
  "language_info": {
   "codemirror_mode": {
    "name": "ipython",
    "version": 3
   },
   "file_extension": ".py",
   "mimetype": "text/x-python",
   "name": "python",
   "nbconvert_exporter": "python",
   "pygments_lexer": "ipython3",
   "version": "3.12.0"
  }
 },
 "nbformat": 4,
 "nbformat_minor": 4
}
